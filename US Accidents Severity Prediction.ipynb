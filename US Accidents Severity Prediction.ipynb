{
  "cells": [
    {
      "cell_type": "markdown",
      "metadata": {
        "papermill": {
          "duration": 0.199919,
          "end_time": "2020-11-27T08:38:06.715024",
          "exception": false,
          "start_time": "2020-11-27T08:38:06.515105",
          "status": "completed"
        },
        "tags": [],
        "id": "b4lP70PW-vL6"
      },
      "source": [
        "## Data Preparation"
      ]
    },
    {
      "cell_type": "markdown",
      "metadata": {
        "papermill": {
          "duration": 0.202619,
          "end_time": "2020-11-27T08:38:07.118090",
          "exception": false,
          "start_time": "2020-11-27T08:38:06.915471",
          "status": "completed"
        },
        "tags": [],
        "id": "4y6zU6KR-vL6"
      },
      "source": [
        "### Importing Libraries"
      ]
    },
    {
      "cell_type": "code",
      "source": [
        "!pip install swifter"
      ],
      "metadata": {
        "id": "7zT87_b2iezd"
      },
      "execution_count": null,
      "outputs": []
    },
    {
      "cell_type": "code",
      "source": [
        "from google.colab import drive\n",
        "drive.mount('/content/drive')"
      ],
      "metadata": {
        "colab": {
          "base_uri": "https://localhost:8080/"
        },
        "id": "qfM4nxZhiO_b",
        "outputId": "1837c32b-50c3-4ec6-8ea2-4a6052203498"
      },
      "execution_count": 35,
      "outputs": [
        {
          "output_type": "stream",
          "name": "stdout",
          "text": [
            "Drive already mounted at /content/drive; to attempt to forcibly remount, call drive.mount(\"/content/drive\", force_remount=True).\n"
          ]
        }
      ]
    },
    {
      "cell_type": "code",
      "execution_count": 36,
      "metadata": {
        "execution": {
          "iopub.execute_input": "2020-11-27T08:41:31.508737Z",
          "iopub.status.busy": "2020-11-27T08:41:31.507896Z",
          "iopub.status.idle": "2020-11-27T08:41:33.921740Z",
          "shell.execute_reply": "2020-11-27T08:41:33.920907Z"
        },
        "papermill": {
          "duration": 2.79111,
          "end_time": "2020-11-27T08:41:33.921874",
          "exception": false,
          "start_time": "2020-11-27T08:41:31.130764",
          "status": "completed"
        },
        "tags": [],
        "id": "LBMOGFHm-vL8"
      },
      "outputs": [],
      "source": [
        "# Hiding all warnings\n",
        "import warnings\n",
        "warnings.filterwarnings('ignore')\n",
        "\n",
        "# import numpy, pandas and other necessary libraries\n",
        "import re\n",
        "import numpy as np\n",
        "import pandas as pd\n",
        "import swifter\n",
        "from wordcloud import STOPWORDS\n",
        "from sklearn.feature_extraction.text import CountVectorizer, TfidfTransformer"
      ]
    },
    {
      "cell_type": "code",
      "execution_count": 37,
      "metadata": {
        "execution": {
          "iopub.execute_input": "2020-11-27T08:41:34.663606Z",
          "iopub.status.busy": "2020-11-27T08:41:34.662512Z",
          "iopub.status.idle": "2020-11-27T08:41:34.665941Z",
          "shell.execute_reply": "2020-11-27T08:41:34.665207Z"
        },
        "papermill": {
          "duration": 0.376879,
          "end_time": "2020-11-27T08:41:34.666064",
          "exception": false,
          "start_time": "2020-11-27T08:41:34.289185",
          "status": "completed"
        },
        "tags": [],
        "id": "UTM7xRgS-vL8"
      },
      "outputs": [],
      "source": [
        "# Optimizing settings and configuraturation\n",
        "\n",
        "import warnings\n",
        "warnings.filterwarnings('ignore')\n",
        "\n",
        "pd.options.display.max_columns = 50"
      ]
    },
    {
      "cell_type": "markdown",
      "metadata": {
        "papermill": {
          "duration": 0.373557,
          "end_time": "2020-11-27T08:41:35.407338",
          "exception": false,
          "start_time": "2020-11-27T08:41:35.033781",
          "status": "completed"
        },
        "tags": [],
        "id": "kQw0lO-f-vL8"
      },
      "source": [
        "### Data Loading"
      ]
    },
    {
      "cell_type": "code",
      "execution_count": 38,
      "metadata": {
        "execution": {
          "iopub.execute_input": "2020-11-27T08:41:36.155286Z",
          "iopub.status.busy": "2020-11-27T08:41:36.154467Z",
          "iopub.status.idle": "2020-11-27T08:42:23.011341Z",
          "shell.execute_reply": "2020-11-27T08:42:23.010496Z"
        },
        "papermill": {
          "duration": 47.235691,
          "end_time": "2020-11-27T08:42:23.011481",
          "exception": false,
          "start_time": "2020-11-27T08:41:35.775790",
          "status": "completed"
        },
        "tags": [],
        "id": "syexQXcV-vL9"
      },
      "outputs": [],
      "source": [
        "# Reading the dataset\n",
        "\n",
        "data = pd.read_csv('/content/drive/MyDrive/US_Accidents_June20.csv')"
      ]
    },
    {
      "cell_type": "code",
      "execution_count": 39,
      "metadata": {
        "execution": {
          "iopub.execute_input": "2020-11-27T08:42:23.791974Z",
          "iopub.status.busy": "2020-11-27T08:42:23.791118Z",
          "iopub.status.idle": "2020-11-27T08:42:23.829911Z",
          "shell.execute_reply": "2020-11-27T08:42:23.829132Z"
        },
        "papermill": {
          "duration": 0.442813,
          "end_time": "2020-11-27T08:42:23.830037",
          "exception": false,
          "start_time": "2020-11-27T08:42:23.387224",
          "status": "completed"
        },
        "scrolled": true,
        "tags": [],
        "id": "ixAbWz7q-vL9",
        "outputId": "5472c760-7539-4d90-dea5-202d01832e61",
        "colab": {
          "base_uri": "https://localhost:8080/",
          "height": 582
        }
      },
      "outputs": [
        {
          "output_type": "execute_result",
          "data": {
            "text/plain": [
              "    ID    Source    TMC  Severity           Start_Time             End_Time  \\\n",
              "0  A-1  MapQuest  201.0         3  2016-02-08 05:46:00  2016-02-08 11:00:00   \n",
              "1  A-2  MapQuest  201.0         2  2016-02-08 06:07:59  2016-02-08 06:37:59   \n",
              "2  A-3  MapQuest  201.0         2  2016-02-08 06:49:27  2016-02-08 07:19:27   \n",
              "3  A-4  MapQuest  201.0         3  2016-02-08 07:23:34  2016-02-08 07:53:34   \n",
              "4  A-5  MapQuest  201.0         2  2016-02-08 07:39:07  2016-02-08 08:09:07   \n",
              "\n",
              "   Start_Lat  Start_Lng  End_Lat  End_Lng  Distance(mi)  \\\n",
              "0  39.865147 -84.058723      NaN      NaN          0.01   \n",
              "1  39.928059 -82.831184      NaN      NaN          0.01   \n",
              "2  39.063148 -84.032608      NaN      NaN          0.01   \n",
              "3  39.747753 -84.205582      NaN      NaN          0.01   \n",
              "4  39.627781 -84.188354      NaN      NaN          0.01   \n",
              "\n",
              "                                         Description  Number  \\\n",
              "0  Right lane blocked due to accident on I-70 Eas...     NaN   \n",
              "1  Accident on Brice Rd at Tussing Rd. Expect del...  2584.0   \n",
              "2  Accident on OH-32 State Route 32 Westbound at ...     NaN   \n",
              "3  Accident on I-75 Southbound at Exits 52 52B US...     NaN   \n",
              "4  Accident on McEwen Rd at OH-725 Miamisburg Cen...     NaN   \n",
              "\n",
              "                      Street Side          City      County State     Zipcode  \\\n",
              "0                     I-70 E    R        Dayton  Montgomery    OH       45424   \n",
              "1                   Brice Rd    L  Reynoldsburg    Franklin    OH  43068-3402   \n",
              "2             State Route 32    R  Williamsburg    Clermont    OH       45176   \n",
              "3                     I-75 S    R        Dayton  Montgomery    OH       45417   \n",
              "4  Miamisburg Centerville Rd    R        Dayton  Montgomery    OH       45459   \n",
              "\n",
              "  Country    Timezone Airport_Code    Weather_Timestamp  Temperature(F)  \\\n",
              "0      US  US/Eastern         KFFO  2016-02-08 05:58:00            36.9   \n",
              "1      US  US/Eastern         KCMH  2016-02-08 05:51:00            37.9   \n",
              "2      US  US/Eastern         KI69  2016-02-08 06:56:00            36.0   \n",
              "3      US  US/Eastern         KDAY  2016-02-08 07:38:00            35.1   \n",
              "4      US  US/Eastern         KMGY  2016-02-08 07:53:00            36.0   \n",
              "\n",
              "   Wind_Chill(F)  Humidity(%)  Pressure(in)  Visibility(mi) Wind_Direction  \\\n",
              "0            NaN         91.0         29.68            10.0           Calm   \n",
              "1            NaN        100.0         29.65            10.0           Calm   \n",
              "2           33.3        100.0         29.67            10.0             SW   \n",
              "3           31.0         96.0         29.64             9.0             SW   \n",
              "4           33.3         89.0         29.65             6.0             SW   \n",
              "\n",
              "   Wind_Speed(mph)  Precipitation(in) Weather_Condition  Amenity   Bump  \\\n",
              "0              NaN               0.02        Light Rain    False  False   \n",
              "1              NaN               0.00        Light Rain    False  False   \n",
              "2              3.5                NaN          Overcast    False  False   \n",
              "3              4.6                NaN     Mostly Cloudy    False  False   \n",
              "4              3.5                NaN     Mostly Cloudy    False  False   \n",
              "\n",
              "   Crossing  Give_Way  Junction  No_Exit  Railway  Roundabout  Station   Stop  \\\n",
              "0     False     False     False    False    False       False    False  False   \n",
              "1     False     False     False    False    False       False    False  False   \n",
              "2     False     False     False    False    False       False    False  False   \n",
              "3     False     False     False    False    False       False    False  False   \n",
              "4     False     False     False    False    False       False    False  False   \n",
              "\n",
              "   Traffic_Calming  Traffic_Signal  Turning_Loop Sunrise_Sunset  \\\n",
              "0            False           False         False          Night   \n",
              "1            False           False         False          Night   \n",
              "2            False            True         False          Night   \n",
              "3            False           False         False          Night   \n",
              "4            False            True         False            Day   \n",
              "\n",
              "  Civil_Twilight Nautical_Twilight Astronomical_Twilight  \n",
              "0          Night             Night                 Night  \n",
              "1          Night             Night                   Day  \n",
              "2          Night               Day                   Day  \n",
              "3            Day               Day                   Day  \n",
              "4            Day               Day                   Day  "
            ],
            "text/html": [
              "\n",
              "  <div id=\"df-5fc11a3a-f429-4aac-84fc-ff5ef8e3a157\">\n",
              "    <div class=\"colab-df-container\">\n",
              "      <div>\n",
              "<style scoped>\n",
              "    .dataframe tbody tr th:only-of-type {\n",
              "        vertical-align: middle;\n",
              "    }\n",
              "\n",
              "    .dataframe tbody tr th {\n",
              "        vertical-align: top;\n",
              "    }\n",
              "\n",
              "    .dataframe thead th {\n",
              "        text-align: right;\n",
              "    }\n",
              "</style>\n",
              "<table border=\"1\" class=\"dataframe\">\n",
              "  <thead>\n",
              "    <tr style=\"text-align: right;\">\n",
              "      <th></th>\n",
              "      <th>ID</th>\n",
              "      <th>Source</th>\n",
              "      <th>TMC</th>\n",
              "      <th>Severity</th>\n",
              "      <th>Start_Time</th>\n",
              "      <th>End_Time</th>\n",
              "      <th>Start_Lat</th>\n",
              "      <th>Start_Lng</th>\n",
              "      <th>End_Lat</th>\n",
              "      <th>End_Lng</th>\n",
              "      <th>Distance(mi)</th>\n",
              "      <th>Description</th>\n",
              "      <th>Number</th>\n",
              "      <th>Street</th>\n",
              "      <th>Side</th>\n",
              "      <th>City</th>\n",
              "      <th>County</th>\n",
              "      <th>State</th>\n",
              "      <th>Zipcode</th>\n",
              "      <th>Country</th>\n",
              "      <th>Timezone</th>\n",
              "      <th>Airport_Code</th>\n",
              "      <th>Weather_Timestamp</th>\n",
              "      <th>Temperature(F)</th>\n",
              "      <th>Wind_Chill(F)</th>\n",
              "      <th>Humidity(%)</th>\n",
              "      <th>Pressure(in)</th>\n",
              "      <th>Visibility(mi)</th>\n",
              "      <th>Wind_Direction</th>\n",
              "      <th>Wind_Speed(mph)</th>\n",
              "      <th>Precipitation(in)</th>\n",
              "      <th>Weather_Condition</th>\n",
              "      <th>Amenity</th>\n",
              "      <th>Bump</th>\n",
              "      <th>Crossing</th>\n",
              "      <th>Give_Way</th>\n",
              "      <th>Junction</th>\n",
              "      <th>No_Exit</th>\n",
              "      <th>Railway</th>\n",
              "      <th>Roundabout</th>\n",
              "      <th>Station</th>\n",
              "      <th>Stop</th>\n",
              "      <th>Traffic_Calming</th>\n",
              "      <th>Traffic_Signal</th>\n",
              "      <th>Turning_Loop</th>\n",
              "      <th>Sunrise_Sunset</th>\n",
              "      <th>Civil_Twilight</th>\n",
              "      <th>Nautical_Twilight</th>\n",
              "      <th>Astronomical_Twilight</th>\n",
              "    </tr>\n",
              "  </thead>\n",
              "  <tbody>\n",
              "    <tr>\n",
              "      <th>0</th>\n",
              "      <td>A-1</td>\n",
              "      <td>MapQuest</td>\n",
              "      <td>201.0</td>\n",
              "      <td>3</td>\n",
              "      <td>2016-02-08 05:46:00</td>\n",
              "      <td>2016-02-08 11:00:00</td>\n",
              "      <td>39.865147</td>\n",
              "      <td>-84.058723</td>\n",
              "      <td>NaN</td>\n",
              "      <td>NaN</td>\n",
              "      <td>0.01</td>\n",
              "      <td>Right lane blocked due to accident on I-70 Eas...</td>\n",
              "      <td>NaN</td>\n",
              "      <td>I-70 E</td>\n",
              "      <td>R</td>\n",
              "      <td>Dayton</td>\n",
              "      <td>Montgomery</td>\n",
              "      <td>OH</td>\n",
              "      <td>45424</td>\n",
              "      <td>US</td>\n",
              "      <td>US/Eastern</td>\n",
              "      <td>KFFO</td>\n",
              "      <td>2016-02-08 05:58:00</td>\n",
              "      <td>36.9</td>\n",
              "      <td>NaN</td>\n",
              "      <td>91.0</td>\n",
              "      <td>29.68</td>\n",
              "      <td>10.0</td>\n",
              "      <td>Calm</td>\n",
              "      <td>NaN</td>\n",
              "      <td>0.02</td>\n",
              "      <td>Light Rain</td>\n",
              "      <td>False</td>\n",
              "      <td>False</td>\n",
              "      <td>False</td>\n",
              "      <td>False</td>\n",
              "      <td>False</td>\n",
              "      <td>False</td>\n",
              "      <td>False</td>\n",
              "      <td>False</td>\n",
              "      <td>False</td>\n",
              "      <td>False</td>\n",
              "      <td>False</td>\n",
              "      <td>False</td>\n",
              "      <td>False</td>\n",
              "      <td>Night</td>\n",
              "      <td>Night</td>\n",
              "      <td>Night</td>\n",
              "      <td>Night</td>\n",
              "    </tr>\n",
              "    <tr>\n",
              "      <th>1</th>\n",
              "      <td>A-2</td>\n",
              "      <td>MapQuest</td>\n",
              "      <td>201.0</td>\n",
              "      <td>2</td>\n",
              "      <td>2016-02-08 06:07:59</td>\n",
              "      <td>2016-02-08 06:37:59</td>\n",
              "      <td>39.928059</td>\n",
              "      <td>-82.831184</td>\n",
              "      <td>NaN</td>\n",
              "      <td>NaN</td>\n",
              "      <td>0.01</td>\n",
              "      <td>Accident on Brice Rd at Tussing Rd. Expect del...</td>\n",
              "      <td>2584.0</td>\n",
              "      <td>Brice Rd</td>\n",
              "      <td>L</td>\n",
              "      <td>Reynoldsburg</td>\n",
              "      <td>Franklin</td>\n",
              "      <td>OH</td>\n",
              "      <td>43068-3402</td>\n",
              "      <td>US</td>\n",
              "      <td>US/Eastern</td>\n",
              "      <td>KCMH</td>\n",
              "      <td>2016-02-08 05:51:00</td>\n",
              "      <td>37.9</td>\n",
              "      <td>NaN</td>\n",
              "      <td>100.0</td>\n",
              "      <td>29.65</td>\n",
              "      <td>10.0</td>\n",
              "      <td>Calm</td>\n",
              "      <td>NaN</td>\n",
              "      <td>0.00</td>\n",
              "      <td>Light Rain</td>\n",
              "      <td>False</td>\n",
              "      <td>False</td>\n",
              "      <td>False</td>\n",
              "      <td>False</td>\n",
              "      <td>False</td>\n",
              "      <td>False</td>\n",
              "      <td>False</td>\n",
              "      <td>False</td>\n",
              "      <td>False</td>\n",
              "      <td>False</td>\n",
              "      <td>False</td>\n",
              "      <td>False</td>\n",
              "      <td>False</td>\n",
              "      <td>Night</td>\n",
              "      <td>Night</td>\n",
              "      <td>Night</td>\n",
              "      <td>Day</td>\n",
              "    </tr>\n",
              "    <tr>\n",
              "      <th>2</th>\n",
              "      <td>A-3</td>\n",
              "      <td>MapQuest</td>\n",
              "      <td>201.0</td>\n",
              "      <td>2</td>\n",
              "      <td>2016-02-08 06:49:27</td>\n",
              "      <td>2016-02-08 07:19:27</td>\n",
              "      <td>39.063148</td>\n",
              "      <td>-84.032608</td>\n",
              "      <td>NaN</td>\n",
              "      <td>NaN</td>\n",
              "      <td>0.01</td>\n",
              "      <td>Accident on OH-32 State Route 32 Westbound at ...</td>\n",
              "      <td>NaN</td>\n",
              "      <td>State Route 32</td>\n",
              "      <td>R</td>\n",
              "      <td>Williamsburg</td>\n",
              "      <td>Clermont</td>\n",
              "      <td>OH</td>\n",
              "      <td>45176</td>\n",
              "      <td>US</td>\n",
              "      <td>US/Eastern</td>\n",
              "      <td>KI69</td>\n",
              "      <td>2016-02-08 06:56:00</td>\n",
              "      <td>36.0</td>\n",
              "      <td>33.3</td>\n",
              "      <td>100.0</td>\n",
              "      <td>29.67</td>\n",
              "      <td>10.0</td>\n",
              "      <td>SW</td>\n",
              "      <td>3.5</td>\n",
              "      <td>NaN</td>\n",
              "      <td>Overcast</td>\n",
              "      <td>False</td>\n",
              "      <td>False</td>\n",
              "      <td>False</td>\n",
              "      <td>False</td>\n",
              "      <td>False</td>\n",
              "      <td>False</td>\n",
              "      <td>False</td>\n",
              "      <td>False</td>\n",
              "      <td>False</td>\n",
              "      <td>False</td>\n",
              "      <td>False</td>\n",
              "      <td>True</td>\n",
              "      <td>False</td>\n",
              "      <td>Night</td>\n",
              "      <td>Night</td>\n",
              "      <td>Day</td>\n",
              "      <td>Day</td>\n",
              "    </tr>\n",
              "    <tr>\n",
              "      <th>3</th>\n",
              "      <td>A-4</td>\n",
              "      <td>MapQuest</td>\n",
              "      <td>201.0</td>\n",
              "      <td>3</td>\n",
              "      <td>2016-02-08 07:23:34</td>\n",
              "      <td>2016-02-08 07:53:34</td>\n",
              "      <td>39.747753</td>\n",
              "      <td>-84.205582</td>\n",
              "      <td>NaN</td>\n",
              "      <td>NaN</td>\n",
              "      <td>0.01</td>\n",
              "      <td>Accident on I-75 Southbound at Exits 52 52B US...</td>\n",
              "      <td>NaN</td>\n",
              "      <td>I-75 S</td>\n",
              "      <td>R</td>\n",
              "      <td>Dayton</td>\n",
              "      <td>Montgomery</td>\n",
              "      <td>OH</td>\n",
              "      <td>45417</td>\n",
              "      <td>US</td>\n",
              "      <td>US/Eastern</td>\n",
              "      <td>KDAY</td>\n",
              "      <td>2016-02-08 07:38:00</td>\n",
              "      <td>35.1</td>\n",
              "      <td>31.0</td>\n",
              "      <td>96.0</td>\n",
              "      <td>29.64</td>\n",
              "      <td>9.0</td>\n",
              "      <td>SW</td>\n",
              "      <td>4.6</td>\n",
              "      <td>NaN</td>\n",
              "      <td>Mostly Cloudy</td>\n",
              "      <td>False</td>\n",
              "      <td>False</td>\n",
              "      <td>False</td>\n",
              "      <td>False</td>\n",
              "      <td>False</td>\n",
              "      <td>False</td>\n",
              "      <td>False</td>\n",
              "      <td>False</td>\n",
              "      <td>False</td>\n",
              "      <td>False</td>\n",
              "      <td>False</td>\n",
              "      <td>False</td>\n",
              "      <td>False</td>\n",
              "      <td>Night</td>\n",
              "      <td>Day</td>\n",
              "      <td>Day</td>\n",
              "      <td>Day</td>\n",
              "    </tr>\n",
              "    <tr>\n",
              "      <th>4</th>\n",
              "      <td>A-5</td>\n",
              "      <td>MapQuest</td>\n",
              "      <td>201.0</td>\n",
              "      <td>2</td>\n",
              "      <td>2016-02-08 07:39:07</td>\n",
              "      <td>2016-02-08 08:09:07</td>\n",
              "      <td>39.627781</td>\n",
              "      <td>-84.188354</td>\n",
              "      <td>NaN</td>\n",
              "      <td>NaN</td>\n",
              "      <td>0.01</td>\n",
              "      <td>Accident on McEwen Rd at OH-725 Miamisburg Cen...</td>\n",
              "      <td>NaN</td>\n",
              "      <td>Miamisburg Centerville Rd</td>\n",
              "      <td>R</td>\n",
              "      <td>Dayton</td>\n",
              "      <td>Montgomery</td>\n",
              "      <td>OH</td>\n",
              "      <td>45459</td>\n",
              "      <td>US</td>\n",
              "      <td>US/Eastern</td>\n",
              "      <td>KMGY</td>\n",
              "      <td>2016-02-08 07:53:00</td>\n",
              "      <td>36.0</td>\n",
              "      <td>33.3</td>\n",
              "      <td>89.0</td>\n",
              "      <td>29.65</td>\n",
              "      <td>6.0</td>\n",
              "      <td>SW</td>\n",
              "      <td>3.5</td>\n",
              "      <td>NaN</td>\n",
              "      <td>Mostly Cloudy</td>\n",
              "      <td>False</td>\n",
              "      <td>False</td>\n",
              "      <td>False</td>\n",
              "      <td>False</td>\n",
              "      <td>False</td>\n",
              "      <td>False</td>\n",
              "      <td>False</td>\n",
              "      <td>False</td>\n",
              "      <td>False</td>\n",
              "      <td>False</td>\n",
              "      <td>False</td>\n",
              "      <td>True</td>\n",
              "      <td>False</td>\n",
              "      <td>Day</td>\n",
              "      <td>Day</td>\n",
              "      <td>Day</td>\n",
              "      <td>Day</td>\n",
              "    </tr>\n",
              "  </tbody>\n",
              "</table>\n",
              "</div>\n",
              "      <button class=\"colab-df-convert\" onclick=\"convertToInteractive('df-5fc11a3a-f429-4aac-84fc-ff5ef8e3a157')\"\n",
              "              title=\"Convert this dataframe to an interactive table.\"\n",
              "              style=\"display:none;\">\n",
              "        \n",
              "  <svg xmlns=\"http://www.w3.org/2000/svg\" height=\"24px\"viewBox=\"0 0 24 24\"\n",
              "       width=\"24px\">\n",
              "    <path d=\"M0 0h24v24H0V0z\" fill=\"none\"/>\n",
              "    <path d=\"M18.56 5.44l.94 2.06.94-2.06 2.06-.94-2.06-.94-.94-2.06-.94 2.06-2.06.94zm-11 1L8.5 8.5l.94-2.06 2.06-.94-2.06-.94L8.5 2.5l-.94 2.06-2.06.94zm10 10l.94 2.06.94-2.06 2.06-.94-2.06-.94-.94-2.06-.94 2.06-2.06.94z\"/><path d=\"M17.41 7.96l-1.37-1.37c-.4-.4-.92-.59-1.43-.59-.52 0-1.04.2-1.43.59L10.3 9.45l-7.72 7.72c-.78.78-.78 2.05 0 2.83L4 21.41c.39.39.9.59 1.41.59.51 0 1.02-.2 1.41-.59l7.78-7.78 2.81-2.81c.8-.78.8-2.07 0-2.86zM5.41 20L4 18.59l7.72-7.72 1.47 1.35L5.41 20z\"/>\n",
              "  </svg>\n",
              "      </button>\n",
              "      \n",
              "  <style>\n",
              "    .colab-df-container {\n",
              "      display:flex;\n",
              "      flex-wrap:wrap;\n",
              "      gap: 12px;\n",
              "    }\n",
              "\n",
              "    .colab-df-convert {\n",
              "      background-color: #E8F0FE;\n",
              "      border: none;\n",
              "      border-radius: 50%;\n",
              "      cursor: pointer;\n",
              "      display: none;\n",
              "      fill: #1967D2;\n",
              "      height: 32px;\n",
              "      padding: 0 0 0 0;\n",
              "      width: 32px;\n",
              "    }\n",
              "\n",
              "    .colab-df-convert:hover {\n",
              "      background-color: #E2EBFA;\n",
              "      box-shadow: 0px 1px 2px rgba(60, 64, 67, 0.3), 0px 1px 3px 1px rgba(60, 64, 67, 0.15);\n",
              "      fill: #174EA6;\n",
              "    }\n",
              "\n",
              "    [theme=dark] .colab-df-convert {\n",
              "      background-color: #3B4455;\n",
              "      fill: #D2E3FC;\n",
              "    }\n",
              "\n",
              "    [theme=dark] .colab-df-convert:hover {\n",
              "      background-color: #434B5C;\n",
              "      box-shadow: 0px 1px 3px 1px rgba(0, 0, 0, 0.15);\n",
              "      filter: drop-shadow(0px 1px 2px rgba(0, 0, 0, 0.3));\n",
              "      fill: #FFFFFF;\n",
              "    }\n",
              "  </style>\n",
              "\n",
              "      <script>\n",
              "        const buttonEl =\n",
              "          document.querySelector('#df-5fc11a3a-f429-4aac-84fc-ff5ef8e3a157 button.colab-df-convert');\n",
              "        buttonEl.style.display =\n",
              "          google.colab.kernel.accessAllowed ? 'block' : 'none';\n",
              "\n",
              "        async function convertToInteractive(key) {\n",
              "          const element = document.querySelector('#df-5fc11a3a-f429-4aac-84fc-ff5ef8e3a157');\n",
              "          const dataTable =\n",
              "            await google.colab.kernel.invokeFunction('convertToInteractive',\n",
              "                                                     [key], {});\n",
              "          if (!dataTable) return;\n",
              "\n",
              "          const docLinkHtml = 'Like what you see? Visit the ' +\n",
              "            '<a target=\"_blank\" href=https://colab.research.google.com/notebooks/data_table.ipynb>data table notebook</a>'\n",
              "            + ' to learn more about interactive tables.';\n",
              "          element.innerHTML = '';\n",
              "          dataTable['output_type'] = 'display_data';\n",
              "          await google.colab.output.renderOutput(dataTable, element);\n",
              "          const docLink = document.createElement('div');\n",
              "          docLink.innerHTML = docLinkHtml;\n",
              "          element.appendChild(docLink);\n",
              "        }\n",
              "      </script>\n",
              "    </div>\n",
              "  </div>\n",
              "  "
            ]
          },
          "metadata": {},
          "execution_count": 39
        }
      ],
      "source": [
        "# Displaying initial data\n",
        "\n",
        "data.head(5)"
      ]
    },
    {
      "cell_type": "code",
      "execution_count": 40,
      "metadata": {
        "execution": {
          "iopub.execute_input": "2020-11-27T08:42:24.593005Z",
          "iopub.status.busy": "2020-11-27T08:42:24.592012Z",
          "iopub.status.idle": "2020-11-27T08:42:24.595904Z",
          "shell.execute_reply": "2020-11-27T08:42:24.596802Z"
        },
        "papermill": {
          "duration": 0.394915,
          "end_time": "2020-11-27T08:42:24.597016",
          "exception": false,
          "start_time": "2020-11-27T08:42:24.202101",
          "status": "completed"
        },
        "scrolled": true,
        "tags": [],
        "id": "Y6qPA3WM-vL9",
        "outputId": "77c3f93b-7d26-467c-eecd-30888c0117cc",
        "colab": {
          "base_uri": "https://localhost:8080/"
        }
      },
      "outputs": [
        {
          "output_type": "stream",
          "name": "stdout",
          "text": [
            "<class 'pandas.core.frame.DataFrame'>\n",
            "RangeIndex: 3513617 entries, 0 to 3513616\n",
            "Data columns (total 49 columns):\n",
            " #   Column                 Dtype  \n",
            "---  ------                 -----  \n",
            " 0   ID                     object \n",
            " 1   Source                 object \n",
            " 2   TMC                    float64\n",
            " 3   Severity               int64  \n",
            " 4   Start_Time             object \n",
            " 5   End_Time               object \n",
            " 6   Start_Lat              float64\n",
            " 7   Start_Lng              float64\n",
            " 8   End_Lat                float64\n",
            " 9   End_Lng                float64\n",
            " 10  Distance(mi)           float64\n",
            " 11  Description            object \n",
            " 12  Number                 float64\n",
            " 13  Street                 object \n",
            " 14  Side                   object \n",
            " 15  City                   object \n",
            " 16  County                 object \n",
            " 17  State                  object \n",
            " 18  Zipcode                object \n",
            " 19  Country                object \n",
            " 20  Timezone               object \n",
            " 21  Airport_Code           object \n",
            " 22  Weather_Timestamp      object \n",
            " 23  Temperature(F)         float64\n",
            " 24  Wind_Chill(F)          float64\n",
            " 25  Humidity(%)            float64\n",
            " 26  Pressure(in)           float64\n",
            " 27  Visibility(mi)         float64\n",
            " 28  Wind_Direction         object \n",
            " 29  Wind_Speed(mph)        float64\n",
            " 30  Precipitation(in)      float64\n",
            " 31  Weather_Condition      object \n",
            " 32  Amenity                bool   \n",
            " 33  Bump                   bool   \n",
            " 34  Crossing               bool   \n",
            " 35  Give_Way               bool   \n",
            " 36  Junction               bool   \n",
            " 37  No_Exit                bool   \n",
            " 38  Railway                bool   \n",
            " 39  Roundabout             bool   \n",
            " 40  Station                bool   \n",
            " 41  Stop                   bool   \n",
            " 42  Traffic_Calming        bool   \n",
            " 43  Traffic_Signal         bool   \n",
            " 44  Turning_Loop           bool   \n",
            " 45  Sunrise_Sunset         object \n",
            " 46  Civil_Twilight         object \n",
            " 47  Nautical_Twilight      object \n",
            " 48  Astronomical_Twilight  object \n",
            "dtypes: bool(13), float64(14), int64(1), object(21)\n",
            "memory usage: 1008.6+ MB\n"
          ]
        }
      ],
      "source": [
        "# Understanding the dataset | Meta Data\n",
        "\n",
        "data.info()"
      ]
    },
    {
      "cell_type": "markdown",
      "metadata": {
        "papermill": {
          "duration": 0.37188,
          "end_time": "2020-11-27T08:43:25.740372",
          "exception": false,
          "start_time": "2020-11-27T08:43:25.368492",
          "status": "completed"
        },
        "tags": [],
        "id": "ExaXC05--vL-"
      },
      "source": [
        "### Data Summarization"
      ]
    },
    {
      "cell_type": "code",
      "execution_count": 41,
      "metadata": {
        "execution": {
          "iopub.execute_input": "2020-11-27T08:43:26.497937Z",
          "iopub.status.busy": "2020-11-27T08:43:26.497043Z",
          "iopub.status.idle": "2020-11-27T08:43:26.501451Z",
          "shell.execute_reply": "2020-11-27T08:43:26.502106Z"
        },
        "papermill": {
          "duration": 0.391089,
          "end_time": "2020-11-27T08:43:26.502310",
          "exception": false,
          "start_time": "2020-11-27T08:43:26.111221",
          "status": "completed"
        },
        "tags": [],
        "id": "4DIWk4MM-vL-",
        "outputId": "9652d060-90be-4880-8325-079a5b263d1f",
        "colab": {
          "base_uri": "https://localhost:8080/"
        }
      },
      "outputs": [
        {
          "output_type": "stream",
          "name": "stdout",
          "text": [
            "Rows     : 3513617\n",
            "Columns  : 49\n"
          ]
        }
      ],
      "source": [
        "# Displaying the summary of the dataset\n",
        "\n",
        "print('Rows     :',data.shape[0])\n",
        "print('Columns  :',data.shape[1])"
      ]
    },
    {
      "cell_type": "code",
      "execution_count": 42,
      "metadata": {
        "execution": {
          "iopub.execute_input": "2020-11-27T08:43:28.795620Z",
          "iopub.status.busy": "2020-11-27T08:43:28.794217Z",
          "iopub.status.idle": "2020-11-27T08:43:37.021119Z",
          "shell.execute_reply": "2020-11-27T08:43:37.020125Z"
        },
        "papermill": {
          "duration": 8.60725,
          "end_time": "2020-11-27T08:43:37.021353",
          "exception": false,
          "start_time": "2020-11-27T08:43:28.414103",
          "status": "completed"
        },
        "scrolled": true,
        "tags": [],
        "id": "6qqksz3A-vL-",
        "outputId": "93a2c7bc-8173-4b23-8d41-00e02c886923",
        "colab": {
          "base_uri": "https://localhost:8080/"
        }
      },
      "outputs": [
        {
          "output_type": "stream",
          "name": "stdout",
          "text": [
            "Percentage of Missing values:\n",
            "\n",
            " ID                        0.00\n",
            "Source                    0.00\n",
            "TMC                      29.45\n",
            "Severity                  0.00\n",
            "Start_Time                0.00\n",
            "End_Time                  0.00\n",
            "Start_Lat                 0.00\n",
            "Start_Lng                 0.00\n",
            "End_Lat                  70.55\n",
            "End_Lng                  70.55\n",
            "Distance(mi)              0.00\n",
            "Description               0.00\n",
            "Number                   64.40\n",
            "Street                    0.00\n",
            "Side                      0.00\n",
            "City                      0.00\n",
            "County                    0.00\n",
            "State                     0.00\n",
            "Zipcode                   0.03\n",
            "Country                   0.00\n",
            "Timezone                  0.11\n",
            "Airport_Code              0.19\n",
            "Weather_Timestamp         1.23\n",
            "Temperature(F)            1.87\n",
            "Wind_Chill(F)            53.17\n",
            "Humidity(%)               1.98\n",
            "Pressure(in)              1.59\n",
            "Visibility(mi)            2.16\n",
            "Wind_Direction            1.68\n",
            "Wind_Speed(mph)          12.94\n",
            "Precipitation(in)        57.66\n",
            "Weather_Condition         2.17\n",
            "Amenity                   0.00\n",
            "Bump                      0.00\n",
            "Crossing                  0.00\n",
            "Give_Way                  0.00\n",
            "Junction                  0.00\n",
            "No_Exit                   0.00\n",
            "Railway                   0.00\n",
            "Roundabout                0.00\n",
            "Station                   0.00\n",
            "Stop                      0.00\n",
            "Traffic_Calming           0.00\n",
            "Traffic_Signal            0.00\n",
            "Turning_Loop              0.00\n",
            "Sunrise_Sunset            0.00\n",
            "Civil_Twilight            0.00\n",
            "Nautical_Twilight         0.00\n",
            "Astronomical_Twilight     0.00\n",
            "dtype: float64\n"
          ]
        }
      ],
      "source": [
        "# Displaying the number of missing values per attribute\n",
        "\n",
        "print('Percentage of Missing values:\\n\\n',(100*data.isnull().sum()/data.shape[0]).round(2))"
      ]
    },
    {
      "cell_type": "markdown",
      "metadata": {
        "papermill": {
          "duration": 0.37789,
          "end_time": "2020-11-27T08:45:57.277871",
          "exception": false,
          "start_time": "2020-11-27T08:45:56.899981",
          "status": "completed"
        },
        "tags": [],
        "id": "uPhL0eg1-vL_"
      },
      "source": [
        "### Data Cleaning"
      ]
    },
    {
      "cell_type": "markdown",
      "metadata": {
        "papermill": {
          "duration": 0.375934,
          "end_time": "2020-11-27T08:45:58.031525",
          "exception": false,
          "start_time": "2020-11-27T08:45:57.655591",
          "status": "completed"
        },
        "tags": [],
        "id": "k6fNLEie-vMA"
      },
      "source": [
        "#### Addressing Dataset Completeness"
      ]
    },
    {
      "cell_type": "code",
      "execution_count": 43,
      "metadata": {
        "execution": {
          "iopub.execute_input": "2020-11-27T08:45:58.801757Z",
          "iopub.status.busy": "2020-11-27T08:45:58.800924Z",
          "iopub.status.idle": "2020-11-27T08:46:06.926506Z",
          "shell.execute_reply": "2020-11-27T08:46:06.927108Z"
        },
        "papermill": {
          "duration": 8.511921,
          "end_time": "2020-11-27T08:46:06.927306",
          "exception": false,
          "start_time": "2020-11-27T08:45:58.415385",
          "status": "completed"
        },
        "tags": [],
        "id": "67kG8br_-vMA",
        "outputId": "f3dc79af-5c47-49c0-f6fe-a22430c462b4",
        "colab": {
          "base_uri": "https://localhost:8080/"
        }
      },
      "outputs": [
        {
          "output_type": "stream",
          "name": "stdout",
          "text": [
            "Attributes with > 20% missing values:  ['TMC', 'End_Lat', 'End_Lng', 'Number', 'Wind_Chill(F)', 'Precipitation(in)']\n"
          ]
        }
      ],
      "source": [
        "# Displaying the list of attributes with high amount of missing values (>20%)\n",
        "\n",
        "print('Attributes with > 20% missing values: ', data.columns[(100*data.isnull().sum()/data.shape[0]).round(2)>20].tolist())"
      ]
    },
    {
      "cell_type": "markdown",
      "metadata": {
        "papermill": {
          "duration": 0.395612,
          "end_time": "2020-11-27T08:46:07.719619",
          "exception": false,
          "start_time": "2020-11-27T08:46:07.324007",
          "status": "completed"
        },
        "tags": [],
        "id": "_xmkt1In-vMA"
      },
      "source": [
        "'TMC' is one of the important attribute which is communicated by the authorities, hence we would not delete it."
      ]
    },
    {
      "cell_type": "code",
      "execution_count": 44,
      "metadata": {
        "execution": {
          "iopub.execute_input": "2020-11-27T08:46:08.503869Z",
          "iopub.status.busy": "2020-11-27T08:46:08.502958Z",
          "iopub.status.idle": "2020-11-27T08:46:08.515384Z",
          "shell.execute_reply": "2020-11-27T08:46:08.514530Z"
        },
        "papermill": {
          "duration": 0.406822,
          "end_time": "2020-11-27T08:46:08.515562",
          "exception": false,
          "start_time": "2020-11-27T08:46:08.108740",
          "status": "completed"
        },
        "tags": [],
        "id": "haKFpQUU-vMA"
      },
      "outputs": [],
      "source": [
        "# Imputing the missing values in TMC to 201, since that means generic 'Accident' and we and not sure of further details.\n",
        "\n",
        "data['TMC'].fillna(value=201, inplace=True)"
      ]
    },
    {
      "cell_type": "code",
      "execution_count": 45,
      "metadata": {
        "execution": {
          "iopub.execute_input": "2020-11-27T08:46:09.649947Z",
          "iopub.status.busy": "2020-11-27T08:46:09.649098Z",
          "iopub.status.idle": "2020-11-27T08:46:10.254688Z",
          "shell.execute_reply": "2020-11-27T08:46:10.253789Z"
        },
        "papermill": {
          "duration": 1.350475,
          "end_time": "2020-11-27T08:46:10.254838",
          "exception": false,
          "start_time": "2020-11-27T08:46:08.904363",
          "status": "completed"
        },
        "tags": [],
        "id": "QCAairDu-vMA"
      },
      "outputs": [],
      "source": [
        "# Removing the attributes from the dataset\n",
        "\n",
        "data.drop(columns=['End_Lat', 'End_Lng', 'Number', 'Wind_Chill(F)', 'Precipitation(in)'], inplace=True)"
      ]
    },
    {
      "cell_type": "code",
      "execution_count": 46,
      "metadata": {
        "execution": {
          "iopub.execute_input": "2020-11-27T08:46:19.654458Z",
          "iopub.status.busy": "2020-11-27T08:46:19.653630Z",
          "iopub.status.idle": "2020-11-27T08:46:19.979412Z",
          "shell.execute_reply": "2020-11-27T08:46:19.978596Z"
        },
        "papermill": {
          "duration": 8.5622,
          "end_time": "2020-11-27T08:46:19.979552",
          "exception": false,
          "start_time": "2020-11-27T08:46:11.417352",
          "status": "completed"
        },
        "scrolled": true,
        "tags": [],
        "id": "hjyW8CWd-vMB",
        "outputId": "d2025101-b0f8-4bae-d50a-5df11e6f1f6b",
        "colab": {
          "base_uri": "https://localhost:8080/"
        }
      },
      "outputs": [
        {
          "output_type": "stream",
          "name": "stdout",
          "text": [
            "Attributes with missing values:  ['Description', 'City', 'Zipcode', 'Timezone', 'Airport_Code', 'Weather_Timestamp', 'Temperature(F)', 'Humidity(%)', 'Pressure(in)', 'Visibility(mi)', 'Wind_Direction', 'Wind_Speed(mph)', 'Weather_Condition', 'Sunrise_Sunset', 'Civil_Twilight', 'Nautical_Twilight', 'Astronomical_Twilight']\n"
          ]
        }
      ],
      "source": [
        "# Checking if we still have missing values per attribute in our dataset\n",
        "# Displaying the list of attributes with any amount of missing values (>0%)\n",
        "\n",
        "print('Attributes with missing values: ', data.columns[(100*data.isnull().sum()/data.shape[0])>0].tolist())"
      ]
    },
    {
      "cell_type": "code",
      "execution_count": 47,
      "metadata": {
        "execution": {
          "iopub.execute_input": "2020-11-27T08:46:21.300531Z",
          "iopub.status.busy": "2020-11-27T08:46:21.299736Z",
          "iopub.status.idle": "2020-11-27T08:46:21.338687Z",
          "shell.execute_reply": "2020-11-27T08:46:21.337844Z"
        },
        "papermill": {
          "duration": 0.980736,
          "end_time": "2020-11-27T08:46:21.338822",
          "exception": false,
          "start_time": "2020-11-27T08:46:20.358086",
          "status": "completed"
        },
        "tags": [],
        "id": "Vn-7sZHQ-vMB"
      },
      "outputs": [],
      "source": [
        "# Setting 'Wind_Speed(mph)' as 0 for rows where 'Wind_Direction' is 'Calm', meaning almost no wind.\n",
        "\n",
        "data.loc[data['Wind_Direction'] == 'Calm', 'Wind_Speed(mph)'] = 0"
      ]
    },
    {
      "cell_type": "code",
      "execution_count": 48,
      "metadata": {
        "execution": {
          "iopub.execute_input": "2020-11-27T08:46:50.967177Z",
          "iopub.status.busy": "2020-11-27T08:46:50.966393Z",
          "iopub.status.idle": "2020-11-27T08:46:52.943558Z",
          "shell.execute_reply": "2020-11-27T08:46:52.942696Z"
        },
        "papermill": {
          "duration": 10.254716,
          "end_time": "2020-11-27T08:46:52.943697",
          "exception": false,
          "start_time": "2020-11-27T08:46:42.688981",
          "status": "completed"
        },
        "tags": [],
        "id": "1Wa3fReU-vMB"
      },
      "outputs": [],
      "source": [
        "# Dropping all rows with missing values since the less than 30% records gets deleted, and we have huge dataset\n",
        "\n",
        "data.dropna(inplace=True)"
      ]
    },
    {
      "cell_type": "code",
      "execution_count": 49,
      "metadata": {
        "execution": {
          "iopub.execute_input": "2020-11-27T08:47:01.112680Z",
          "iopub.status.busy": "2020-11-27T08:47:01.111799Z",
          "iopub.status.idle": "2020-11-27T08:47:01.435227Z",
          "shell.execute_reply": "2020-11-27T08:47:01.434524Z"
        },
        "papermill": {
          "duration": 8.109725,
          "end_time": "2020-11-27T08:47:01.435396",
          "exception": false,
          "start_time": "2020-11-27T08:46:53.325671",
          "status": "completed"
        },
        "tags": [],
        "id": "UKgDKQWE-vMC",
        "outputId": "f10d89d3-3ca7-4a46-d3ae-814c740d8d1f",
        "colab": {
          "base_uri": "https://localhost:8080/"
        }
      },
      "outputs": [
        {
          "output_type": "stream",
          "name": "stdout",
          "text": [
            "Attributes with Missing values:  []\n"
          ]
        }
      ],
      "source": [
        "# Checking if we still have missing values per attribute in our dataset\n",
        "# Displaying the list of attributes with any amount of missing values (>0%)\n",
        "\n",
        "print('Attributes with Missing values: ', data.columns[(100*data.isnull().sum()/data.shape[0])>0].tolist())"
      ]
    },
    {
      "cell_type": "code",
      "execution_count": 50,
      "metadata": {
        "execution": {
          "iopub.execute_input": "2020-11-27T08:47:04.814793Z",
          "iopub.status.busy": "2020-11-27T08:47:04.812563Z",
          "iopub.status.idle": "2020-11-27T08:47:10.434936Z",
          "shell.execute_reply": "2020-11-27T08:47:10.434231Z"
        },
        "papermill": {
          "duration": 7.0745,
          "end_time": "2020-11-27T08:47:10.435088",
          "exception": false,
          "start_time": "2020-11-27T08:47:03.360588",
          "status": "completed"
        },
        "tags": [],
        "id": "Oc5mZlYe-vMC"
      },
      "outputs": [],
      "source": [
        "# Converting datatype for attributes related to datetime.\n",
        "\n",
        "data[\"Start_Time\"]= pd.to_datetime(data[\"Start_Time\"]) \n",
        "data[\"End_Time\"]= pd.to_datetime(data[\"End_Time\"])\n",
        "data[\"Weather_Timestamp\"]= pd.to_datetime(data[\"Weather_Timestamp\"])"
      ]
    },
    {
      "cell_type": "code",
      "execution_count": 51,
      "metadata": {
        "execution": {
          "iopub.execute_input": "2020-11-27T08:47:31.479410Z",
          "iopub.status.busy": "2020-11-27T08:47:31.477607Z",
          "iopub.status.idle": "2020-11-27T08:47:50.241582Z",
          "shell.execute_reply": "2020-11-27T08:47:50.240864Z"
        },
        "papermill": {
          "duration": 19.216749,
          "end_time": "2020-11-27T08:47:50.241741",
          "exception": false,
          "start_time": "2020-11-27T08:47:31.024992",
          "status": "completed"
        },
        "tags": [],
        "id": "kt-bW8jp-vMD"
      },
      "outputs": [],
      "source": [
        "# Dropping the duplicate records, if any\n",
        "\n",
        "data.drop_duplicates(inplace=True)"
      ]
    },
    {
      "cell_type": "code",
      "execution_count": 52,
      "metadata": {
        "execution": {
          "iopub.execute_input": "2020-11-27T08:47:51.178992Z",
          "iopub.status.busy": "2020-11-27T08:47:51.178209Z",
          "iopub.status.idle": "2020-11-27T08:47:52.360763Z",
          "shell.execute_reply": "2020-11-27T08:47:52.359889Z"
        },
        "papermill": {
          "duration": 1.725914,
          "end_time": "2020-11-27T08:47:52.360905",
          "exception": false,
          "start_time": "2020-11-27T08:47:50.634991",
          "status": "completed"
        },
        "tags": [],
        "id": "G-LMqS6M-vMD",
        "outputId": "1378c68d-f953-4263-81cf-cd58cc0fc090",
        "colab": {
          "base_uri": "https://localhost:8080/"
        }
      },
      "outputs": [
        {
          "output_type": "execute_result",
          "data": {
            "text/plain": [
              "array(['Calm', 'SW', 'SSW', 'WSW', 'WNW', 'NW', 'W', 'NNW', 'NNE', 'S',\n",
              "       'Variable', 'N', 'SE', 'SSE', 'ESE', 'E', 'NE', 'ENE'],\n",
              "      dtype=object)"
            ]
          },
          "metadata": {},
          "execution_count": 52
        }
      ],
      "source": [
        "# Adding consistency to the various wind speed direction values\n",
        "\n",
        "data['Wind_Direction'].replace({'North': 'N'}, inplace=True)\n",
        "data['Wind_Direction'].replace({'East': 'E'}, inplace=True)\n",
        "data['Wind_Direction'].replace({'West': 'W'}, inplace=True)\n",
        "data['Wind_Direction'].replace({'South': 'S'}, inplace=True)\n",
        "data['Wind_Direction'].replace({'VAR': 'Variable'}, inplace=True)\n",
        "data['Wind_Direction'].replace({'CALM': 'Calm'}, inplace=True)\n",
        "\n",
        "data['Wind_Direction'].unique()"
      ]
    },
    {
      "cell_type": "code",
      "execution_count": 53,
      "metadata": {
        "execution": {
          "iopub.execute_input": "2020-11-27T08:47:53.902581Z",
          "iopub.status.busy": "2020-11-27T08:47:53.901734Z",
          "iopub.status.idle": "2020-11-27T08:47:55.580354Z",
          "shell.execute_reply": "2020-11-27T08:47:55.579521Z"
        },
        "papermill": {
          "duration": 2.069002,
          "end_time": "2020-11-27T08:47:55.580495",
          "exception": false,
          "start_time": "2020-11-27T08:47:53.511493",
          "status": "completed"
        },
        "scrolled": true,
        "tags": [],
        "id": "1bA6FKLR-vMD"
      },
      "outputs": [],
      "source": [
        "# 'End_Time' should always be greater than 'Start_Time'\n",
        "\n",
        "data.drop(data[data['End_Time']<data['Start_Time']].index, inplace=True)"
      ]
    },
    {
      "cell_type": "markdown",
      "metadata": {
        "papermill": {
          "duration": 0.383987,
          "end_time": "2020-11-27T08:47:56.349336",
          "exception": false,
          "start_time": "2020-11-27T08:47:55.965349",
          "status": "completed"
        },
        "tags": [],
        "id": "vzV8MuHU-vMD"
      },
      "source": [
        "#### Dropping unnecessary attributes"
      ]
    },
    {
      "cell_type": "code",
      "execution_count": 54,
      "metadata": {
        "execution": {
          "iopub.execute_input": "2020-11-27T08:47:57.895094Z",
          "iopub.status.busy": "2020-11-27T08:47:57.750780Z",
          "iopub.status.idle": "2020-11-27T08:47:58.162781Z",
          "shell.execute_reply": "2020-11-27T08:47:58.162007Z"
        },
        "papermill": {
          "duration": 1.424752,
          "end_time": "2020-11-27T08:47:58.162928",
          "exception": false,
          "start_time": "2020-11-27T08:47:56.738176",
          "status": "completed"
        },
        "tags": [],
        "id": "-gXa_mvW-vMD"
      },
      "outputs": [],
      "source": [
        "# Since the entire dataset is of one country, we can remove the attribute 'Country' as it contains only one value\n",
        "\n",
        "data.drop(columns=['Country'], inplace=True)"
      ]
    },
    {
      "cell_type": "code",
      "execution_count": 55,
      "metadata": {
        "execution": {
          "iopub.execute_input": "2020-11-27T08:47:59.698339Z",
          "iopub.status.busy": "2020-11-27T08:47:59.697508Z",
          "iopub.status.idle": "2020-11-27T08:47:59.949676Z",
          "shell.execute_reply": "2020-11-27T08:47:59.950335Z"
        },
        "papermill": {
          "duration": 1.403902,
          "end_time": "2020-11-27T08:47:59.950507",
          "exception": false,
          "start_time": "2020-11-27T08:47:58.546605",
          "status": "completed"
        },
        "tags": [],
        "id": "42BJxaNf-vMD"
      },
      "outputs": [],
      "source": [
        "# Since the entire dataset contains single value for 'Turning_Loop' we can remove the attribute 'Turning_Loop'\n",
        "\n",
        "data.drop(columns=['Turning_Loop'], inplace=True)"
      ]
    },
    {
      "cell_type": "code",
      "execution_count": 56,
      "metadata": {
        "execution": {
          "iopub.execute_input": "2020-11-27T08:48:01.403030Z",
          "iopub.status.busy": "2020-11-27T08:48:00.718698Z",
          "iopub.status.idle": "2020-11-27T08:48:01.690906Z",
          "shell.execute_reply": "2020-11-27T08:48:01.690037Z"
        },
        "papermill": {
          "duration": 1.359148,
          "end_time": "2020-11-27T08:48:01.691040",
          "exception": false,
          "start_time": "2020-11-27T08:48:00.331892",
          "status": "completed"
        },
        "tags": [],
        "id": "EbTd8lqS-vME"
      },
      "outputs": [],
      "source": [
        "# Since the ID column is an identifier, we can remove the attribute 'ID'\n",
        "\n",
        "data.drop(columns=['ID'], inplace=True)"
      ]
    },
    {
      "cell_type": "markdown",
      "metadata": {
        "papermill": {
          "duration": 0.395703,
          "end_time": "2020-11-27T08:48:02.473108",
          "exception": false,
          "start_time": "2020-11-27T08:48:02.077405",
          "status": "completed"
        },
        "tags": [],
        "id": "8juJgyR2-vME"
      },
      "source": [
        "### Feature Engineering"
      ]
    },
    {
      "cell_type": "markdown",
      "metadata": {
        "papermill": {
          "duration": 0.385631,
          "end_time": "2020-11-27T08:48:03.260705",
          "exception": false,
          "start_time": "2020-11-27T08:48:02.875074",
          "status": "completed"
        },
        "tags": [],
        "id": "DX2RzaJy-vME"
      },
      "source": [
        "#### Deriving the attribute 'Time_Duration(min)'"
      ]
    },
    {
      "cell_type": "code",
      "execution_count": 57,
      "metadata": {
        "execution": {
          "iopub.execute_input": "2020-11-27T08:48:04.043712Z",
          "iopub.status.busy": "2020-11-27T08:48:04.042924Z",
          "iopub.status.idle": "2020-11-27T08:48:04.153994Z",
          "shell.execute_reply": "2020-11-27T08:48:04.154621Z"
        },
        "papermill": {
          "duration": 0.507899,
          "end_time": "2020-11-27T08:48:04.154805",
          "exception": false,
          "start_time": "2020-11-27T08:48:03.646906",
          "status": "completed"
        },
        "tags": [],
        "id": "jfVg-V7s-vME"
      },
      "outputs": [],
      "source": [
        "# Deriving the attribute 'Time_Duration(min)'\n",
        "\n",
        "data.insert(4,'Time_Duration(min)',(data['End_Time']-data['Start_Time'])//np.timedelta64(1,'m'))"
      ]
    },
    {
      "cell_type": "code",
      "execution_count": 58,
      "metadata": {
        "execution": {
          "iopub.execute_input": "2020-11-27T08:48:05.854147Z",
          "iopub.status.busy": "2020-11-27T08:48:05.851682Z",
          "iopub.status.idle": "2020-11-27T08:48:06.828207Z",
          "shell.execute_reply": "2020-11-27T08:48:06.827492Z"
        },
        "papermill": {
          "duration": 1.367803,
          "end_time": "2020-11-27T08:48:06.828366",
          "exception": false,
          "start_time": "2020-11-27T08:48:05.460563",
          "status": "completed"
        },
        "tags": [],
        "id": "nBnEsmno-vME"
      },
      "outputs": [],
      "source": [
        "# Dropping the attribute 'End_Time' since it is redundant now\n",
        "\n",
        "data.drop(columns=['End_Time'], inplace=True)"
      ]
    },
    {
      "cell_type": "markdown",
      "metadata": {
        "papermill": {
          "duration": 0.385275,
          "end_time": "2020-11-27T08:48:07.602038",
          "exception": false,
          "start_time": "2020-11-27T08:48:07.216763",
          "status": "completed"
        },
        "tags": [],
        "id": "FlBGckgx-vME"
      },
      "source": [
        "#### Splitting the 'Start_Time' timestamp to 'Year', 'Month', 'Day', 'Hour' and 'Weekend'"
      ]
    },
    {
      "cell_type": "code",
      "execution_count": 59,
      "metadata": {
        "execution": {
          "iopub.execute_input": "2020-11-27T08:48:08.391921Z",
          "iopub.status.busy": "2020-11-27T08:48:08.391039Z",
          "iopub.status.idle": "2020-11-27T08:48:13.378163Z",
          "shell.execute_reply": "2020-11-27T08:48:13.377488Z"
        },
        "papermill": {
          "duration": 5.388629,
          "end_time": "2020-11-27T08:48:13.378328",
          "exception": false,
          "start_time": "2020-11-27T08:48:07.989699",
          "status": "completed"
        },
        "tags": [],
        "id": "Oqg7Iy7w-vME"
      },
      "outputs": [],
      "source": [
        "# Breaking 'Start_Time' into 'Year', 'Month', 'Day', 'Hour' and 'Weekend'\n",
        "\n",
        "data['Year']=data['Start_Time'].dt.year\n",
        "data['Month']=data['Start_Time'].dt.month\n",
        "data['Day']=data['Start_Time'].dt.day\n",
        "data['Hour']=data['Start_Time'].dt.hour\n",
        "data['Minute']=data['Start_Time'].dt.minute\n",
        "data['Weekday']=data['Start_Time'].dt.weekday\n",
        "\n",
        "def weekday_text(w):\n",
        "    d = {0:'Monday', 1:'Tuesday', 2:'Wednesday', 3:'Thursday', 4:'Friday', 5:'Saturday', 6:'Sunday'}\n",
        "    return d[w]\n",
        "data['Weekday']=data['Weekday'].apply(lambda x:weekday_text(x))\n"
      ]
    },
    {
      "cell_type": "code",
      "execution_count": 60,
      "metadata": {
        "execution": {
          "iopub.execute_input": "2020-11-27T08:48:14.199305Z",
          "iopub.status.busy": "2020-11-27T08:48:14.198492Z",
          "iopub.status.idle": "2020-11-27T08:48:17.334362Z",
          "shell.execute_reply": "2020-11-27T08:48:17.333655Z"
        },
        "papermill": {
          "duration": 3.530237,
          "end_time": "2020-11-27T08:48:17.334511",
          "exception": false,
          "start_time": "2020-11-27T08:48:13.804274",
          "status": "completed"
        },
        "tags": [],
        "id": "frAq90T0-vMF"
      },
      "outputs": [],
      "source": [
        "# Dropping the attribute 'Start_Time' since it is redundant now\n",
        "\n",
        "data.drop(columns=['Start_Time'], inplace=True)"
      ]
    },
    {
      "cell_type": "markdown",
      "metadata": {
        "papermill": {
          "duration": 0.392144,
          "end_time": "2020-11-27T08:48:18.110969",
          "exception": false,
          "start_time": "2020-11-27T08:48:17.718825",
          "status": "completed"
        },
        "tags": [],
        "id": "przlS4Tm-vMF"
      },
      "source": [
        "#### Extracting 'Keyword' from 'Description' attribute"
      ]
    },
    {
      "cell_type": "code",
      "execution_count": 61,
      "metadata": {
        "execution": {
          "iopub.execute_input": "2020-11-27T08:48:18.919048Z",
          "iopub.status.busy": "2020-11-27T08:48:18.906030Z",
          "iopub.status.idle": "2020-11-27T08:50:04.558380Z",
          "shell.execute_reply": "2020-11-27T08:50:04.558945Z"
        },
        "papermill": {
          "duration": 106.062064,
          "end_time": "2020-11-27T08:50:04.559115",
          "exception": false,
          "start_time": "2020-11-27T08:48:18.497051",
          "status": "completed"
        },
        "tags": [],
        "colab": {
          "referenced_widgets": [
            "9790c035f8bc471e9092845531f6811e",
            "b27c197db9114371b3ceabea5705c18a",
            "828d3250754b42f1b1bb466dbb2f1028",
            "15b87813d3e74dd3bc81acaca5052bd1",
            "00039945c4124ce5b8c42cba1c086b47",
            "be728d0f8f0f4de699cdb222f0091a93",
            "1acd38302d9b48bcafa88a21fbf83457",
            "d9fc1adffcc5480785bad0e79a40b93d",
            "f09f8bf2de4d4e1dad92de2a83aaa64b",
            "05b01854317a44cebe7d5a447161c932",
            "8382e9676d5344248593913a58d3c196",
            "9e0b0d2aed074f85b71d60ae3e8301a0",
            "97a67a5b54914b789844600cc81aac0b",
            "79ad2f45c156452884ba5bd1a00b26e0",
            "0489f4c910284392936c1271f417efab",
            "cbfd8e5809fd4b149484ee790edb7867",
            "3599d3292c014dfea5c73e219b89f0f3",
            "71097c9187b24c84855a74107ec54396",
            "e5477e121b244bdeb731dba6b0ab4fcd",
            "193b1240b5a745edb0e62260a483afcc",
            "156b569d3cc64664be693ec246aaf053",
            "fe5a7d0629f0440f93dab9dcb37fb324"
          ],
          "base_uri": "https://localhost:8080/",
          "height": 272
        },
        "id": "Akk0sl2f-vMF",
        "outputId": "5b475e44-9999-4071-a449-2ca495338c80"
      },
      "outputs": [
        {
          "output_type": "display_data",
          "data": {
            "text/plain": [
              "Pandas Apply:   0%|          | 0/3390171 [00:00<?, ?it/s]"
            ],
            "application/vnd.jupyter.widget-view+json": {
              "version_major": 2,
              "version_minor": 0,
              "model_id": "9790c035f8bc471e9092845531f6811e"
            }
          },
          "metadata": {}
        },
        {
          "output_type": "display_data",
          "data": {
            "text/plain": [
              "Pandas Apply:   0%|          | 0/3390171 [00:00<?, ?it/s]"
            ],
            "application/vnd.jupyter.widget-view+json": {
              "version_major": 2,
              "version_minor": 0,
              "model_id": "9e0b0d2aed074f85b71d60ae3e8301a0"
            }
          },
          "metadata": {}
        },
        {
          "output_type": "execute_result",
          "data": {
            "text/plain": [
              "0    right lane blocked due accident eastbound exit...\n",
              "1          accident brice rd tussing rd expect delays \n",
              "2    accident oh state route westbound dela palma r...\n",
              "3        accident southbound exits b us expect delays \n",
              "4    accident mcewen rd oh miamisburg centerville r...\n",
              "5    accident outerbelt northbound near exit oh sta...\n",
              "6     accident oakridge dr woodward ave expect delays \n",
              "7    accident southbound exit b grand ave expect de...\n",
              "8    accident notre dame ave warner ave expect delays \n",
              "9    right hand shoulder blocked due accident outer...\n",
              "Name: Description, dtype: object"
            ]
          },
          "metadata": {},
          "execution_count": 61
        }
      ],
      "source": [
        "\n",
        "def clean(text):\n",
        "    # lowercase\n",
        "    text=text.lower()\n",
        "    #remove tags\n",
        "    text=re.sub(\"</?.*?>\",\" <> \",text)\n",
        "    # remove special characters and digits\n",
        "    text=re.sub(\"(\\\\d|\\\\W)+\",\" \",text)\n",
        "    return text\n",
        "\n",
        "data['Description'] = data['Description'].swifter.apply(lambda x:clean(x))\n",
        "\n",
        "# removing stopwords\n",
        "data['Description'] = data['Description'].swifter.apply(lambda x: ' '.join([item for item in x.split(' ') if item not in STOPWORDS]))\n",
        "\n",
        "#show the starting few 'Descriptions'\n",
        "data['Description'][:10]"
      ]
    },
    {
      "cell_type": "code",
      "execution_count": 62,
      "metadata": {
        "execution": {
          "iopub.execute_input": "2020-11-27T08:50:05.426926Z",
          "iopub.status.busy": "2020-11-27T08:50:05.395563Z",
          "iopub.status.idle": "2020-11-27T08:51:01.641531Z",
          "shell.execute_reply": "2020-11-27T08:51:01.642137Z"
        },
        "papermill": {
          "duration": 56.695012,
          "end_time": "2020-11-27T08:51:01.642321",
          "exception": false,
          "start_time": "2020-11-27T08:50:04.947309",
          "status": "completed"
        },
        "tags": [],
        "id": "bgbDx2pL-vMF",
        "outputId": "a9db1894-c078-45ed-f293-090de77720e9",
        "colab": {
          "base_uri": "https://localhost:8080/"
        }
      },
      "outputs": [
        {
          "output_type": "execute_result",
          "data": {
            "text/plain": [
              "(3390171, 63600)"
            ]
          },
          "metadata": {},
          "execution_count": 62
        }
      ],
      "source": [
        "# Getting the Description (text) column \n",
        "docs=data['Description'].tolist()\n",
        "\n",
        "# Creating a vocabulary of words, Ignoring words that appear in 85% of documents, Eliminating stop words\n",
        "cv=CountVectorizer(max_df=0.85,stop_words=STOPWORDS)\n",
        "word_count_vector=cv.fit_transform(docs)\n",
        "\n",
        "# Displaying Shape\n",
        "word_count_vector.shape"
      ]
    },
    {
      "cell_type": "code",
      "execution_count": 63,
      "metadata": {
        "execution": {
          "iopub.execute_input": "2020-11-27T08:51:02.433612Z",
          "iopub.status.busy": "2020-11-27T08:51:02.432011Z",
          "iopub.status.idle": "2020-11-27T08:51:02.567998Z",
          "shell.execute_reply": "2020-11-27T08:51:02.567209Z"
        },
        "papermill": {
          "duration": 0.530762,
          "end_time": "2020-11-27T08:51:02.568125",
          "exception": false,
          "start_time": "2020-11-27T08:51:02.037363",
          "status": "completed"
        },
        "tags": [],
        "id": "hioouMmz-vMF",
        "outputId": "b6b2a8f9-89d7-4f56-9785-e5d08ab6782b",
        "colab": {
          "base_uri": "https://localhost:8080/"
        }
      },
      "outputs": [
        {
          "output_type": "execute_result",
          "data": {
            "text/plain": [
              "array([15.34324403, 15.34324403, 14.93777893, ..., 15.34324403,\n",
              "       11.74593177, 14.93777893])"
            ]
          },
          "metadata": {},
          "execution_count": 63
        }
      ],
      "source": [
        "# Generating TFIDF Transformer\n",
        "\n",
        "tfidf_transformer=TfidfTransformer(smooth_idf=True,use_idf=True)\n",
        "tfidf_transformer.fit(word_count_vector)\n",
        "tfidf_transformer.idf_"
      ]
    },
    {
      "cell_type": "code",
      "execution_count": 64,
      "metadata": {
        "execution": {
          "iopub.execute_input": "2020-11-27T08:51:03.353407Z",
          "iopub.status.busy": "2020-11-27T08:51:03.352597Z",
          "iopub.status.idle": "2020-11-27T08:51:03.356401Z",
          "shell.execute_reply": "2020-11-27T08:51:03.355783Z"
        },
        "papermill": {
          "duration": 0.400753,
          "end_time": "2020-11-27T08:51:03.356538",
          "exception": false,
          "start_time": "2020-11-27T08:51:02.955785",
          "status": "completed"
        },
        "tags": [],
        "id": "A8HooGzl-vMF"
      },
      "outputs": [],
      "source": [
        "# Sorting the feature name based on score\n",
        "\n",
        "def sort_coo(coo_matrix):\n",
        "    tuples = zip(coo_matrix.col, coo_matrix.data)\n",
        "    return sorted(tuples, key=lambda x: (x[1], x[0]), reverse=True)[:3]\n",
        "\n",
        "# Extracting \n",
        "def extract_top5_from_vector(feature_names, sorted_items):\n",
        "    keyword = []\n",
        "\n",
        "    for idx, score in sorted_items:\n",
        "        keyword.append(feature_names[idx])\n",
        "\n",
        "    return ';'.join(keyword)"
      ]
    },
    {
      "cell_type": "code",
      "execution_count": 65,
      "metadata": {
        "execution": {
          "iopub.execute_input": "2020-11-27T08:51:04.197865Z",
          "iopub.status.busy": "2020-11-27T08:51:04.196809Z",
          "iopub.status.idle": "2020-11-27T08:51:04.200063Z",
          "shell.execute_reply": "2020-11-27T08:51:04.200791Z"
        },
        "papermill": {
          "duration": 0.458175,
          "end_time": "2020-11-27T08:51:04.200958",
          "exception": false,
          "start_time": "2020-11-27T08:51:03.742783",
          "status": "completed"
        },
        "tags": [],
        "id": "nyT0P7ll-vMG"
      },
      "outputs": [],
      "source": [
        "# Getting actual feature names\n",
        "\n",
        "feature_names=cv.get_feature_names()"
      ]
    },
    {
      "cell_type": "code",
      "execution_count": 66,
      "metadata": {
        "execution": {
          "iopub.execute_input": "2020-11-27T08:51:04.983042Z",
          "iopub.status.busy": "2020-11-27T08:51:04.982220Z",
          "iopub.status.idle": "2020-11-27T10:31:59.911772Z",
          "shell.execute_reply": "2020-11-27T10:31:59.910987Z"
        },
        "papermill": {
          "duration": 6055.324569,
          "end_time": "2020-11-27T10:31:59.911920",
          "exception": false,
          "start_time": "2020-11-27T08:51:04.587351",
          "status": "completed"
        },
        "tags": [],
        "colab": {
          "referenced_widgets": [
            "f0ee3b0dcc0c45a98ff7adbb5e22772d",
            "2a3a4c700db7419d949dda18f029397b",
            "cc4f42dd81b54b1baf29c1a9ef6d8cb9",
            "158d20332ac1484ba6e4ff1a14badf4c",
            "f38f35287c6b4c78839873aca942681c",
            "ddd256e79d984fe9a225d9ec877cef51",
            "1a6d738aa5ac4953b3239c755c8a7ada",
            "bb4e498de18448fc8ddf88459ed5e97f",
            "b5aeb524e5b145a8b7f3c1f95e5f16d3",
            "486901d3ad0f4a5fab72761017f37c6f",
            "779b5a62626f4f12b18e7d3d78273869"
          ],
          "base_uri": "https://localhost:8080/",
          "height": 49
        },
        "id": "6j5IHO01-vMG",
        "outputId": "9235c8d2-5324-4597-fc7f-4c89459fbe8c"
      },
      "outputs": [
        {
          "output_type": "display_data",
          "data": {
            "text/plain": [
              "Pandas Apply:   0%|          | 0/3390171 [00:00<?, ?it/s]"
            ],
            "application/vnd.jupyter.widget-view+json": {
              "version_major": 2,
              "version_minor": 0,
              "model_id": "f0ee3b0dcc0c45a98ff7adbb5e22772d"
            }
          },
          "metadata": {}
        }
      ],
      "source": [
        "# Extracting the 'Keywords' from 'Description' attribute of dataset\n",
        "\n",
        "def extract_description_keywords(doc):\n",
        "    #generate tf-idf for the given document\n",
        "    tf_idf_vector=tfidf_transformer.transform(cv.transform([doc]))\n",
        "    #sort the tf-idf vectors by descending order of scores and get features\n",
        "    sorted_items=sort_coo(tf_idf_vector.tocoo(copy=False))\n",
        "    return extract_top5_from_vector(feature_names,sorted_items)\n",
        "\n",
        "data['Keywords'] = data['Description'].swifter.apply(lambda x:extract_description_keywords(x))"
      ]
    },
    {
      "cell_type": "code",
      "execution_count": 67,
      "metadata": {
        "execution": {
          "iopub.execute_input": "2020-11-27T10:32:00.717647Z",
          "iopub.status.busy": "2020-11-27T10:32:00.716584Z",
          "iopub.status.idle": "2020-11-27T10:32:45.766711Z",
          "shell.execute_reply": "2020-11-27T10:32:45.766080Z"
        },
        "papermill": {
          "duration": 45.452219,
          "end_time": "2020-11-27T10:32:45.766838",
          "exception": false,
          "start_time": "2020-11-27T10:32:00.314619",
          "status": "completed"
        },
        "scrolled": true,
        "tags": [],
        "colab": {
          "referenced_widgets": [
            "a5dfef5166054faab09b1df680bee046",
            "c2d6f1a518c446caa73873f40d490fc3",
            "dd913fe60b824a2d8d606aec5afb9346",
            "f47d19f1f51b4928a2ef313ad8d93684",
            "f392af2692c945e385dedb6ec718a853",
            "0e4e241bdb2543cab7b66e2f82bcfdc8",
            "ba4e1458006e4a95bcf724358b60699e",
            "b8bd6121ffc84dae840d9049cf945e52",
            "28372024dd5d43de81276c2cf24d8e46",
            "a131bb3f80594656b42149fea89a8902",
            "2b87e01fb4be4650b3f665eba8bf6165",
            "f1409a508716410f98a861a154ddd178",
            "c057b83ddb0548d08a4f2eacfcb72fba",
            "e6dd42da159b48959d358c31bee79b65",
            "ccc56eed0ef24afead0eb0122a80ae9c",
            "8a78a74438cc491984487b36639cb320",
            "325883765b724d30838e8696d4472d11",
            "27ae35c6a51e45daba187adc5a1dea58",
            "7e127796131c4ccba9fdc802f14ec118",
            "d5cf2887f90743cf9702c0657b2c40d2",
            "4dbc4ed4bf584a36b8c0c296f120202f",
            "42124f434352487386749bc636909d41",
            "fee3d8b72d1a4b9fbeb44c74ffaa0868",
            "10af530c9262461bad65c385d68f90b8",
            "634f80698c0649349e4d26f56cea1709",
            "eae413a80c58460395950c90df3bd75b",
            "c1c12062601248138fb0fa1de09f2813",
            "8c3cbea1f83842e599146ed2edbde1fc",
            "5b1cbd04dcb74537bfbd78353ff7ebd3",
            "7f48b3358eb8481c999251bf9a974af2",
            "daa8d3465e2d48839a653b7035c154fd",
            "cdee41b75f344d3c968fbf8bd619a5a4",
            "d0010431584a4b98bfda8b536a4025d6"
          ],
          "base_uri": "https://localhost:8080/",
          "height": 113
        },
        "id": "JkLwYKTz-vMG",
        "outputId": "86db89a8-0afd-453f-9ed9-71d9f85a03e0"
      },
      "outputs": [
        {
          "output_type": "display_data",
          "data": {
            "text/plain": [
              "Pandas Apply:   0%|          | 0/3390171 [00:00<?, ?it/s]"
            ],
            "application/vnd.jupyter.widget-view+json": {
              "version_major": 2,
              "version_minor": 0,
              "model_id": "a5dfef5166054faab09b1df680bee046"
            }
          },
          "metadata": {}
        },
        {
          "output_type": "display_data",
          "data": {
            "text/plain": [
              "Pandas Apply:   0%|          | 0/3390171 [00:00<?, ?it/s]"
            ],
            "application/vnd.jupyter.widget-view+json": {
              "version_major": 2,
              "version_minor": 0,
              "model_id": "f1409a508716410f98a861a154ddd178"
            }
          },
          "metadata": {}
        },
        {
          "output_type": "display_data",
          "data": {
            "text/plain": [
              "Pandas Apply:   0%|          | 0/3390171 [00:00<?, ?it/s]"
            ],
            "application/vnd.jupyter.widget-view+json": {
              "version_major": 2,
              "version_minor": 0,
              "model_id": "fee3d8b72d1a4b9fbeb44c74ffaa0868"
            }
          },
          "metadata": {}
        }
      ],
      "source": [
        "# Adding an attribute per keyword to be used for modelling\n",
        "\n",
        "data['Keyword_1'] = data['Keywords'].swifter.apply(lambda x:str(x.split(';')[0]) if len(x.split(';'))>0 else None)\n",
        "data['Keyword_2'] = data['Keywords'].swifter.apply(lambda x:str(x.split(';')[1]) if len(x.split(';'))>1 else None)\n",
        "data['Keyword_3'] = data['Keywords'].swifter.apply(lambda x:str(x.split(';')[2]) if len(x.split(';'))>2 else None)"
      ]
    },
    {
      "cell_type": "code",
      "execution_count": 68,
      "metadata": {
        "execution": {
          "iopub.execute_input": "2020-11-27T10:32:50.317052Z",
          "iopub.status.busy": "2020-11-27T10:32:48.473374Z",
          "iopub.status.idle": "2020-11-27T10:32:58.218299Z",
          "shell.execute_reply": "2020-11-27T10:32:58.219120Z"
        },
        "papermill": {
          "duration": 12.05769,
          "end_time": "2020-11-27T10:32:58.219381",
          "exception": false,
          "start_time": "2020-11-27T10:32:46.161691",
          "status": "completed"
        },
        "scrolled": true,
        "tags": [],
        "id": "ZNCxGBwv-vMG",
        "outputId": "f0c60724-05b6-41d2-b614-aaf64e05d11c",
        "colab": {
          "base_uri": "https://localhost:8080/"
        }
      },
      "outputs": [
        {
          "output_type": "stream",
          "name": "stdout",
          "text": [
            "Percentage of Missing values:\n",
            "\n",
            " Source                    0.00\n",
            "TMC                       0.00\n",
            "Severity                  0.00\n",
            "Time_Duration(min)        0.00\n",
            "Start_Lat                 0.00\n",
            "Start_Lng                 0.00\n",
            "Distance(mi)              0.00\n",
            "Description               0.00\n",
            "Street                    0.00\n",
            "Side                      0.00\n",
            "City                      0.00\n",
            "County                    0.00\n",
            "State                     0.00\n",
            "Zipcode                   0.00\n",
            "Timezone                  0.00\n",
            "Airport_Code              0.00\n",
            "Weather_Timestamp         0.00\n",
            "Temperature(F)            0.00\n",
            "Humidity(%)               0.00\n",
            "Pressure(in)              0.00\n",
            "Visibility(mi)            0.00\n",
            "Wind_Direction            0.00\n",
            "Wind_Speed(mph)           0.00\n",
            "Weather_Condition         0.00\n",
            "Amenity                   0.00\n",
            "Bump                      0.00\n",
            "Crossing                  0.00\n",
            "Give_Way                  0.00\n",
            "Junction                  0.00\n",
            "No_Exit                   0.00\n",
            "Railway                   0.00\n",
            "Roundabout                0.00\n",
            "Station                   0.00\n",
            "Stop                      0.00\n",
            "Traffic_Calming           0.00\n",
            "Traffic_Signal            0.00\n",
            "Sunrise_Sunset            0.00\n",
            "Civil_Twilight            0.00\n",
            "Nautical_Twilight         0.00\n",
            "Astronomical_Twilight     0.00\n",
            "Year                      0.00\n",
            "Month                     0.00\n",
            "Day                       0.00\n",
            "Hour                      0.00\n",
            "Minute                    0.00\n",
            "Weekday                   0.00\n",
            "Keywords                  0.00\n",
            "Keyword_1                 0.00\n",
            "Keyword_2                 2.48\n",
            "Keyword_3                10.31\n",
            "dtype: float64\n"
          ]
        }
      ],
      "source": [
        "# Displaying the number of missing values per attribute\n",
        "\n",
        "print('Percentage of Missing values:\\n\\n',(100*data.isnull().sum()/data.shape[0]).round(2))"
      ]
    },
    {
      "cell_type": "code",
      "execution_count": 69,
      "metadata": {
        "execution": {
          "iopub.execute_input": "2020-11-27T10:32:59.013752Z",
          "iopub.status.busy": "2020-11-27T10:32:59.012932Z",
          "iopub.status.idle": "2020-11-27T10:33:08.539480Z",
          "shell.execute_reply": "2020-11-27T10:33:08.538824Z"
        },
        "papermill": {
          "duration": 9.921934,
          "end_time": "2020-11-27T10:33:08.539622",
          "exception": false,
          "start_time": "2020-11-27T10:32:58.617688",
          "status": "completed"
        },
        "tags": [],
        "id": "S9hxGXhC-vMG"
      },
      "outputs": [],
      "source": [
        "# Removing records with missing values, i.e. missing 'Keywords' since they are only around 2.5%\n",
        "\n",
        "data.dropna(inplace=True)"
      ]
    },
    {
      "cell_type": "code",
      "execution_count": 70,
      "metadata": {
        "execution": {
          "iopub.execute_input": "2020-11-27T10:33:10.131030Z",
          "iopub.status.busy": "2020-11-27T10:33:09.708796Z",
          "iopub.status.idle": "2020-11-27T10:33:10.549160Z",
          "shell.execute_reply": "2020-11-27T10:33:10.548349Z"
        },
        "papermill": {
          "duration": 1.616235,
          "end_time": "2020-11-27T10:33:10.549325",
          "exception": false,
          "start_time": "2020-11-27T10:33:08.933090",
          "status": "completed"
        },
        "tags": [],
        "id": "VjZsP5FA-vMG"
      },
      "outputs": [],
      "source": [
        "# Removing Redundant Column; 'Description' and 'Keywords'\n",
        "\n",
        "data.drop(columns=['Description', 'Keywords'], inplace=True)"
      ]
    },
    {
      "cell_type": "markdown",
      "metadata": {
        "papermill": {
          "duration": 0.393841,
          "end_time": "2020-11-27T10:33:11.334547",
          "exception": false,
          "start_time": "2020-11-27T10:33:10.940706",
          "status": "completed"
        },
        "tags": [],
        "id": "_R1BT4KG-vMG"
      },
      "source": [
        "### Outlier Treatment"
      ]
    },
    {
      "cell_type": "code",
      "execution_count": 71,
      "metadata": {
        "execution": {
          "iopub.execute_input": "2020-11-27T10:33:12.125480Z",
          "iopub.status.busy": "2020-11-27T10:33:12.124462Z",
          "iopub.status.idle": "2020-11-27T10:33:13.608900Z",
          "shell.execute_reply": "2020-11-27T10:33:13.608100Z"
        },
        "papermill": {
          "duration": 1.882219,
          "end_time": "2020-11-27T10:33:13.609059",
          "exception": false,
          "start_time": "2020-11-27T10:33:11.726840",
          "status": "completed"
        },
        "tags": [],
        "id": "FzP1XW2G-vMH"
      },
      "outputs": [],
      "source": [
        "# Removing outliers | Time_Duration\n",
        "# Removing records stating duration more than 12 days (since higher than 12 days is not recorded yet)\n",
        "\n",
        "data.drop(data[data['Time_Duration(min)'] > (12*1440)].index, inplace=True)"
      ]
    },
    {
      "cell_type": "code",
      "execution_count": 72,
      "metadata": {
        "execution": {
          "iopub.execute_input": "2020-11-27T10:33:14.408280Z",
          "iopub.status.busy": "2020-11-27T10:33:14.407476Z",
          "iopub.status.idle": "2020-11-27T10:33:15.906994Z",
          "shell.execute_reply": "2020-11-27T10:33:15.906368Z"
        },
        "papermill": {
          "duration": 1.901374,
          "end_time": "2020-11-27T10:33:15.907126",
          "exception": false,
          "start_time": "2020-11-27T10:33:14.005752",
          "status": "completed"
        },
        "tags": [],
        "id": "YdNj0BrA-vMH"
      },
      "outputs": [],
      "source": [
        "# Removing outliers | Wind_Speed(mph)\n",
        "# Removing records wind speed more than 260 mph (since higher than ~253mph is not recorded yet)\n",
        "\n",
        "data.drop(data[data['Wind_Speed(mph)'] > 260].index, inplace=True)"
      ]
    },
    {
      "cell_type": "code",
      "execution_count": 73,
      "metadata": {
        "execution": {
          "iopub.execute_input": "2020-11-27T10:33:16.731495Z",
          "iopub.status.busy": "2020-11-27T10:33:16.730302Z",
          "iopub.status.idle": "2020-11-27T10:33:18.243704Z",
          "shell.execute_reply": "2020-11-27T10:33:18.243079Z"
        },
        "papermill": {
          "duration": 1.942389,
          "end_time": "2020-11-27T10:33:18.243838",
          "exception": false,
          "start_time": "2020-11-27T10:33:16.301449",
          "status": "completed"
        },
        "tags": [],
        "id": "r9hRxD4L-vMH"
      },
      "outputs": [],
      "source": [
        "# Removing outliers | Distance(mi)\n",
        "# Removing records distance(mi) more than 109 miles (since higher than ~109 miles is not recorded yet)\n",
        "\n",
        "data.drop(data[data['Distance(mi)'] > 109].index, inplace=True)"
      ]
    },
    {
      "cell_type": "code",
      "execution_count": 74,
      "metadata": {
        "execution": {
          "iopub.execute_input": "2020-11-27T10:33:19.033872Z",
          "iopub.status.busy": "2020-11-27T10:33:19.033043Z",
          "iopub.status.idle": "2020-11-27T10:33:20.551109Z",
          "shell.execute_reply": "2020-11-27T10:33:20.550457Z"
        },
        "papermill": {
          "duration": 1.914656,
          "end_time": "2020-11-27T10:33:20.551279",
          "exception": false,
          "start_time": "2020-11-27T10:33:18.636623",
          "status": "completed"
        },
        "tags": [],
        "id": "dA4QPJmM-vMH"
      },
      "outputs": [],
      "source": [
        "# Removing outliers | Temperature(F)\n",
        "# Removing records temperature(f) more than 131.4 mph (since higher than ~134.1 F is not recorded yet)\n",
        "\n",
        "data.drop(data[data['Temperature(F)'] > 134.1].index, inplace=True)"
      ]
    },
    {
      "cell_type": "code",
      "execution_count": 75,
      "metadata": {
        "execution": {
          "iopub.execute_input": "2020-11-27T10:33:21.349806Z",
          "iopub.status.busy": "2020-11-27T10:33:21.348554Z",
          "iopub.status.idle": "2020-11-27T10:33:24.392166Z",
          "shell.execute_reply": "2020-11-27T10:33:24.391532Z"
        },
        "papermill": {
          "duration": 3.44639,
          "end_time": "2020-11-27T10:33:24.392314",
          "exception": false,
          "start_time": "2020-11-27T10:33:20.945924",
          "status": "completed"
        },
        "tags": [],
        "id": "MdQdO1Yk-vMH"
      },
      "outputs": [],
      "source": [
        "# Removing outliers | Pressure(in)\n",
        "# Removing records pressure(in) less than 25.69 (since lesser than ~25.69 is not recorded yet)\n",
        "# Removing records pressure(in) more than 32.03 (since higher than ~32.03 is not recorded yet)\n",
        "\n",
        "data.drop(data[data['Pressure(in)'] < 25.69].index, inplace=True)\n",
        "data.drop(data[data['Pressure(in)'] > 32.03].index, inplace=True)"
      ]
    },
    {
      "cell_type": "code",
      "execution_count": 76,
      "metadata": {
        "execution": {
          "iopub.execute_input": "2020-11-27T10:33:25.188129Z",
          "iopub.status.busy": "2020-11-27T10:33:25.187333Z",
          "iopub.status.idle": "2020-11-27T10:33:26.989930Z",
          "shell.execute_reply": "2020-11-27T10:33:26.989291Z"
        },
        "papermill": {
          "duration": 2.201653,
          "end_time": "2020-11-27T10:33:26.990076",
          "exception": false,
          "start_time": "2020-11-27T10:33:24.788423",
          "status": "completed"
        },
        "tags": [],
        "id": "OA_MIGM5-vMH"
      },
      "outputs": [],
      "source": [
        "# Removing outliers | Wind_Speed(mph)\n",
        "# Removing records visibility(mi) more than 150 miles (since higher than ~150 miles is not recorded yet)\n",
        "\n",
        "data.drop(data[data['Visibility(mi)'] > 150].index, inplace=True)"
      ]
    },
    {
      "cell_type": "markdown",
      "metadata": {
        "papermill": {
          "duration": 0.395178,
          "end_time": "2020-11-27T10:35:24.104838",
          "exception": false,
          "start_time": "2020-11-27T10:35:23.709660",
          "status": "completed"
        },
        "tags": [],
        "id": "F3XEn5vl-vMH"
      },
      "source": [
        "___"
      ]
    },
    {
      "cell_type": "code",
      "source": [
        "# Checking if none of the value is NaN and all of the values are finite and saving to file\n",
        "\n",
        "if data.notnull().values.all() and not data.isnull().values.any():\n",
        "    data.to_csv(\"data.csv\", index=False)\n",
        "    print('Data Saved')\n",
        "else:\n",
        "    print('Data Not Saved')"
      ],
      "metadata": {
        "colab": {
          "base_uri": "https://localhost:8080/"
        },
        "id": "uMLjIard49Ni",
        "outputId": "fe96acc6-c377-422e-ab4a-b433dce260c1"
      },
      "execution_count": 77,
      "outputs": [
        {
          "output_type": "stream",
          "name": "stdout",
          "text": [
            "Data Saved\n"
          ]
        }
      ]
    },
    {
      "cell_type": "markdown",
      "metadata": {
        "papermill": {
          "duration": 0.394577,
          "end_time": "2020-11-27T10:35:24.899528",
          "exception": false,
          "start_time": "2020-11-27T10:35:24.504951",
          "status": "completed"
        },
        "tags": [],
        "id": "Go3pM8GD-vMI"
      },
      "source": [
        "----"
      ]
    },
    {
      "cell_type": "markdown",
      "metadata": {
        "papermill": {
          "duration": 0.396842,
          "end_time": "2020-11-27T10:35:25.693573",
          "exception": false,
          "start_time": "2020-11-27T10:35:25.296731",
          "status": "completed"
        },
        "tags": [],
        "id": "n73RTVrC-vMI"
      },
      "source": [
        "## Exploratory Data Analysis"
      ]
    },
    {
      "cell_type": "code",
      "execution_count": 78,
      "metadata": {
        "execution": {
          "iopub.execute_input": "2020-11-27T10:35:28.141119Z",
          "iopub.status.busy": "2020-11-27T10:35:27.644816Z",
          "iopub.status.idle": "2020-11-27T10:35:30.114658Z",
          "shell.execute_reply": "2020-11-27T10:35:30.113891Z"
        },
        "papermill": {
          "duration": 3.231107,
          "end_time": "2020-11-27T10:35:30.114805",
          "exception": false,
          "start_time": "2020-11-27T10:35:26.883698",
          "status": "completed"
        },
        "tags": [],
        "id": "MZr5cmDz-vMI"
      },
      "outputs": [],
      "source": [
        "%reset -f\n",
        "\n",
        "# Hiding all warnings\n",
        "import warnings\n",
        "warnings.filterwarnings('ignore')\n",
        "\n",
        "# import numpy and pandas\n",
        "import pandas as pd\n",
        "import numpy as np\n",
        "from PIL import Image\n",
        "from wordcloud import WordCloud, STOPWORDS, ImageColorGenerator\n",
        "\n",
        "# import for plotting\n",
        "import matplotlib.pyplot as plt\n",
        "import seaborn as sns\n",
        "\n",
        "# do an inline so that plt.show() is not required everytime\n",
        "%matplotlib inline"
      ]
    },
    {
      "cell_type": "code",
      "execution_count": 79,
      "metadata": {
        "execution": {
          "iopub.execute_input": "2020-11-27T10:35:30.919620Z",
          "iopub.status.busy": "2020-11-27T10:35:30.918791Z",
          "iopub.status.idle": "2020-11-27T10:36:02.192149Z",
          "shell.execute_reply": "2020-11-27T10:36:02.191328Z"
        },
        "papermill": {
          "duration": 31.677486,
          "end_time": "2020-11-27T10:36:02.192306",
          "exception": false,
          "start_time": "2020-11-27T10:35:30.514820",
          "status": "completed"
        },
        "tags": [],
        "id": "ki-WfVgQ-vMI"
      },
      "outputs": [],
      "source": [
        "# Reading the dataset\n",
        "\n",
        "data = pd.read_csv('/content/data.csv').dropna()"
      ]
    },
    {
      "cell_type": "code",
      "execution_count": 80,
      "metadata": {
        "execution": {
          "iopub.execute_input": "2020-11-27T10:36:36.176901Z",
          "iopub.status.busy": "2020-11-27T10:36:36.175867Z",
          "iopub.status.idle": "2020-11-27T10:36:36.226146Z",
          "shell.execute_reply": "2020-11-27T10:36:36.226789Z"
        },
        "papermill": {
          "duration": 0.457865,
          "end_time": "2020-11-27T10:36:36.226951",
          "exception": false,
          "start_time": "2020-11-27T10:36:35.769086",
          "status": "completed"
        },
        "tags": [],
        "id": "MMf5Q005-vMJ",
        "outputId": "d2c8e601-3716-4064-b516-5d62734b4503",
        "colab": {
          "base_uri": "https://localhost:8080/"
        }
      },
      "outputs": [
        {
          "output_type": "stream",
          "name": "stdout",
          "text": [
            "Severity\n",
            "1      19599\n",
            "2    1997503\n",
            "3     879923\n",
            "4     103372\n",
            "dtype: int64\n"
          ]
        }
      ],
      "source": [
        "# Analysing the 'Severity' attribute\n",
        "\n",
        "#Textual Representation\n",
        "print(data.groupby(by='Severity').size())"
      ]
    },
    {
      "cell_type": "code",
      "execution_count": 81,
      "metadata": {
        "execution": {
          "iopub.execute_input": "2020-11-27T10:36:45.712663Z",
          "iopub.status.busy": "2020-11-27T10:36:45.711412Z",
          "iopub.status.idle": "2020-11-27T10:36:46.011064Z",
          "shell.execute_reply": "2020-11-27T10:36:46.010336Z"
        },
        "papermill": {
          "duration": 0.721921,
          "end_time": "2020-11-27T10:36:46.011194",
          "exception": false,
          "start_time": "2020-11-27T10:36:45.289273",
          "status": "completed"
        },
        "tags": [],
        "id": "oRpVupW8-vMK",
        "outputId": "21f1fe60-259d-4a18-ea48-8908b9024c89",
        "colab": {
          "base_uri": "https://localhost:8080/",
          "height": 296
        }
      },
      "outputs": [
        {
          "output_type": "execute_result",
          "data": {
            "text/plain": [
              "<matplotlib.axes._subplots.AxesSubplot at 0x7fb6a917a0a0>"
            ]
          },
          "metadata": {},
          "execution_count": 81
        },
        {
          "output_type": "display_data",
          "data": {
            "text/plain": [
              "<Figure size 1152x288 with 1 Axes>"
            ],
            "image/png": "[encoded data removed]"
          },
          "metadata": {
            "needs_background": "light"
          }
        }
      ],
      "source": [
        "# Analysing the 'Timestamp' (Year, Month) attribute\n",
        "\n",
        "fig = plt.figure(figsize = (16, 4))\n",
        "data.groupby(by=['Year', 'Month']).size().plot()"
      ]
    },
    {
      "cell_type": "code",
      "execution_count": 82,
      "metadata": {
        "execution": {
          "iopub.execute_input": "2020-11-27T10:38:13.936253Z",
          "iopub.status.busy": "2020-11-27T10:38:13.432123Z",
          "iopub.status.idle": "2020-11-27T10:38:15.529798Z",
          "shell.execute_reply": "2020-11-27T10:38:15.529175Z"
        },
        "papermill": {
          "duration": 2.540456,
          "end_time": "2020-11-27T10:38:15.529928",
          "exception": false,
          "start_time": "2020-11-27T10:38:12.989472",
          "status": "completed"
        },
        "scrolled": false,
        "tags": [],
        "id": "XPhAYG86-vML",
        "outputId": "2037d173-33af-47b5-e5f9-f89237b2528c",
        "colab": {
          "base_uri": "https://localhost:8080/",
          "height": 388
        }
      },
      "outputs": [
        {
          "output_type": "display_data",
          "data": {
            "text/plain": [
              "<Figure size 1152x432 with 1 Axes>"
            ],
            "image/png": "[encoded data removed]"
          },
          "metadata": {
            "needs_background": "light"
          }
        }
      ],
      "source": [
        "# Analysing the 'State' attribute\n",
        "\n",
        "fig = plt.figure(figsize = (16, 6))\n",
        "sns.countplot(x='State', data=data, order=data['State'].value_counts().index, palette='Blues_d')\n",
        "plt.show()"
      ]
    },
    {
      "cell_type": "code",
      "execution_count": 83,
      "metadata": {
        "execution": {
          "iopub.execute_input": "2020-11-27T10:40:35.798625Z",
          "iopub.status.busy": "2020-11-27T10:40:33.722060Z",
          "iopub.status.idle": "2020-11-27T10:40:51.564892Z",
          "shell.execute_reply": "2020-11-27T10:40:51.564097Z"
        },
        "papermill": {
          "duration": 18.310546,
          "end_time": "2020-11-27T10:40:51.565027",
          "exception": false,
          "start_time": "2020-11-27T10:40:33.254481",
          "status": "completed"
        },
        "tags": [],
        "id": "I0T404R2-vMP",
        "outputId": "23b3717c-df75-4381-a704-c4307bca1e64",
        "colab": {
          "base_uri": "https://localhost:8080/",
          "height": 576
        }
      },
      "outputs": [
        {
          "output_type": "display_data",
          "data": {
            "text/plain": [
              "<Figure size 1152x576 with 2 Axes>"
            ],
            "image/png": "[encoded data removed]"
          },
          "metadata": {
            "needs_background": "light"
          }
        }
      ],
      "source": [
        "# plotting correlations on a heatmap\n",
        "\n",
        "plt.figure(figsize=(16,8))\n",
        "sns.heatmap(data.corr(), cmap=\"YlGnBu\", annot=False)\n",
        "plt.show()"
      ]
    },
    {
      "cell_type": "markdown",
      "metadata": {
        "papermill": {
          "duration": 0.560084,
          "end_time": "2020-11-27T10:41:02.454723",
          "exception": false,
          "start_time": "2020-11-27T10:41:01.894639",
          "status": "completed"
        },
        "tags": [],
        "id": "fD6aXGIa-vMP"
      },
      "source": [
        "___"
      ]
    },
    {
      "cell_type": "markdown",
      "metadata": {
        "papermill": {
          "duration": 0.485441,
          "end_time": "2020-11-27T10:42:28.053783",
          "exception": false,
          "start_time": "2020-11-27T10:42:27.568342",
          "status": "completed"
        },
        "tags": [],
        "id": "XPwcsICh-vMR"
      },
      "source": [
        "## Model Building and Evaluation"
      ]
    },
    {
      "cell_type": "markdown",
      "metadata": {
        "papermill": {
          "duration": 0.492488,
          "end_time": "2020-11-27T10:42:30.031960",
          "exception": false,
          "start_time": "2020-11-27T10:42:29.539472",
          "status": "completed"
        },
        "tags": [],
        "id": "kOPGA_-s-vMR"
      },
      "source": [
        "### Importing Libraries"
      ]
    },
    {
      "cell_type": "code",
      "execution_count": 153,
      "metadata": {
        "execution": {
          "iopub.execute_input": "2020-11-27T10:42:31.600755Z",
          "iopub.status.busy": "2020-11-27T10:42:31.599920Z",
          "iopub.status.idle": "2020-11-27T10:42:34.733542Z",
          "shell.execute_reply": "2020-11-27T10:42:34.732715Z"
        },
        "papermill": {
          "duration": 4.209465,
          "end_time": "2020-11-27T10:42:34.733678",
          "exception": false,
          "start_time": "2020-11-27T10:42:30.524213",
          "status": "completed"
        },
        "tags": [],
        "id": "Ar2chKBu-vMR"
      },
      "outputs": [],
      "source": [
        "# Deleting all data\n",
        "#%reset -f\n",
        "\n",
        "# Reloading necessary libraries\n",
        "# import numpy and pandas\n",
        "import pandas as pd\n",
        "import numpy as np\n",
        "\n",
        "# import for pre-processing\n",
        "from sklearn.utils import resample\n",
        "from sklearn.model_selection import train_test_split\n",
        "from sklearn.model_selection import GridSearchCV\n",
        "from sklearn.feature_selection import SelectFromModel\n",
        "from sklearn.metrics import classification_report, confusion_matrix, accuracy_score, roc_curve, auc\n",
        "from sklearn.preprocessing import OrdinalEncoder, StandardScaler\n",
        "\n",
        "# import for visualization\n",
        "import matplotlib.pyplot as plt\n",
        "import seaborn as sns\n",
        "\n",
        "# import for model building\n",
        "from sklearn.svm import SVC\n",
        "from sklearn.tree import DecisionTreeClassifier\n",
        "from sklearn.ensemble import RandomForestClassifier\n",
        "from sklearn.neighbors import KNeighborsClassifier\n",
        "\n",
        "# import for Neural Network based model building\n",
        "import tensorflow as tf\n",
        "from tensorflow.keras.utils import to_categorical\n",
        "from tensorflow.keras.models import Sequential\n",
        "from tensorflow.keras.layers import Dense"
      ]
    },
    {
      "cell_type": "code",
      "execution_count": 109,
      "metadata": {
        "execution": {
          "iopub.execute_input": "2020-11-27T10:42:35.717933Z",
          "iopub.status.busy": "2020-11-27T10:42:35.717073Z",
          "iopub.status.idle": "2020-11-27T10:42:40.423781Z",
          "shell.execute_reply": "2020-11-27T10:42:40.422960Z"
        },
        "papermill": {
          "duration": 5.201295,
          "end_time": "2020-11-27T10:42:40.423913",
          "exception": false,
          "start_time": "2020-11-27T10:42:35.222618",
          "status": "completed"
        },
        "tags": [],
        "id": "FVoR0pTl-vMR"
      },
      "outputs": [],
      "source": [
        "# Building model\n",
        "\n",
        "result = {}\n",
        "processed_data = pd.read_csv(f'/content/data.csv').dropna()\n",
        "cols = processed_data.select_dtypes(include='object').columns"
      ]
    },
    {
      "cell_type": "code",
      "execution_count": 110,
      "metadata": {
        "execution": {
          "iopub.execute_input": "2020-11-27T10:42:41.443098Z",
          "iopub.status.busy": "2020-11-27T10:42:41.441945Z",
          "iopub.status.idle": "2020-11-27T10:42:46.619814Z",
          "shell.execute_reply": "2020-11-27T10:42:46.618983Z"
        },
        "papermill": {
          "duration": 5.706793,
          "end_time": "2020-11-27T10:42:46.619948",
          "exception": false,
          "start_time": "2020-11-27T10:42:40.913155",
          "status": "completed"
        },
        "tags": [],
        "id": "-sk-I1oc-vMR",
        "outputId": "f7ccb7c9-b581-42e0-9a6c-48d91d0375b8",
        "colab": {
          "base_uri": "https://localhost:8080/"
        }
      },
      "outputs": [
        {
          "output_type": "execute_result",
          "data": {
            "text/plain": [
              "Severity\n",
              "1    879923\n",
              "2    879923\n",
              "3    879923\n",
              "4    879923\n",
              "Name: Severity, dtype: int64"
            ]
          },
          "metadata": {},
          "execution_count": 110
        }
      ],
      "source": [
        "# Class Balancing | Using Up Sampling\n",
        "\n",
        "# Separate majority and minority classes\n",
        "df_s1 = processed_data[processed_data['Severity']==1]\n",
        "df_s2 = processed_data[processed_data['Severity']==2]\n",
        "df_s3 = processed_data[processed_data['Severity']==3]\n",
        "df_s4 = processed_data[processed_data['Severity']==4]\n",
        "\n",
        "count = max(df_s1.count()[0], df_s3.count()[0], df_s4.count()[0])\n",
        "\n",
        "# Upsample minority class\n",
        "df_s1 = resample(df_s1, replace=df_s1.count()[0]<count, n_samples=count, random_state=42)\n",
        "df_s2 = resample(df_s2, replace=df_s2.count()[0]<count, n_samples=count, random_state=42)\n",
        "df_s3 = resample(df_s3, replace=df_s3.count()[0]<count, n_samples=count, random_state=42)\n",
        "df_s4 = resample(df_s4, replace=df_s4.count()[0]<count, n_samples=count, random_state=42)\n",
        " \n",
        "# Combine majority class with upsampled minority class\n",
        "processed_data = pd.concat([df_s1, df_s2, df_s3, df_s4])\n",
        " \n",
        "# Display new class counts\n",
        "processed_data.groupby(by='Severity')['Severity'].count()"
      ]
    },
    {
      "cell_type": "code",
      "execution_count": 111,
      "metadata": {
        "execution": {
          "iopub.execute_input": "2020-11-27T10:42:48.441193Z",
          "iopub.status.busy": "2020-11-27T10:42:48.091729Z",
          "iopub.status.idle": "2020-11-27T10:43:44.585424Z",
          "shell.execute_reply": "2020-11-27T10:43:44.584463Z"
        },
        "papermill": {
          "duration": 57.396783,
          "end_time": "2020-11-27T10:43:44.585577",
          "exception": false,
          "start_time": "2020-11-27T10:42:47.188794",
          "status": "completed"
        },
        "tags": [],
        "id": "5161BahH-vMR"
      },
      "outputs": [],
      "source": [
        "# Set the target for the prediction\n",
        "target='Severity' \n",
        "\n",
        "# set X and y\n",
        "y = processed_data[target]\n",
        "X = processed_data.drop(target, axis=1)\n",
        "\n",
        "# Create the encoder.\n",
        "encoder = OrdinalEncoder()\n",
        "X[cols] = encoder.fit_transform(X[cols])\n",
        "\n",
        "# Split the data set into training and testing data sets\n",
        "X_train, X_test, y_train, y_test = train_test_split(X, y, test_size=0.3, stratify=y, random_state=42)\n",
        "\n",
        "# Split the data set into training and validation data sets\n",
        "X_train, X_val, y_train, y_val = train_test_split(X_train, y_train, test_size=0.3, stratify=y_train, random_state=42)\n",
        "\n",
        "# Scalling the features of Train Dataset, Validation Dataset and Test Dataset\n",
        "scaler = StandardScaler()\n",
        "\n",
        "# Scaling Train Dataset\n",
        "scaler = scaler.fit(X_train)\n",
        "X_train = scaler.transform(X_train)\n",
        "\n",
        "# Scaling Validation Dataset\n",
        "scaler = scaler.fit(X_val)\n",
        "X_val = scaler.transform(X_val)\n",
        "\n",
        "# Scaling Test Dataset\n",
        "scaler = scaler.fit(X_test)\n",
        "X_test = scaler.transform(X_test)"
      ]
    },
    {
      "cell_type": "markdown",
      "metadata": {
        "papermill": {
          "duration": 0.515821,
          "end_time": "2020-11-27T10:43:53.680754",
          "exception": false,
          "start_time": "2020-11-27T10:43:53.164933",
          "status": "completed"
        },
        "tags": [],
        "id": "Jb85m_PK-vMS"
      },
      "source": [
        "#### BUILDING MODEL USING SUPPORT VECTOR MACHINE"
      ]
    },
    {
      "cell_type": "code",
      "execution_count": 118,
      "metadata": {
        "execution": {
          "iopub.execute_input": "2020-11-27T10:49:11.662107Z",
          "iopub.status.busy": "2020-11-27T10:49:11.661309Z",
          "iopub.status.idle": "2020-11-27T10:59:06.950687Z",
          "shell.execute_reply": "2020-11-27T10:59:06.951719Z"
        },
        "papermill": {
          "duration": 595.805318,
          "end_time": "2020-11-27T10:59:06.952079",
          "exception": false,
          "start_time": "2020-11-27T10:49:11.146761",
          "status": "completed"
        },
        "scrolled": true,
        "tags": [],
        "id": "smiZtjLS-vMT",
        "outputId": "687b0436-5aa9-4100-db0b-f01369f5bb2a",
        "colab": {
          "base_uri": "https://localhost:8080/"
        }
      },
      "outputs": [
        {
          "output_type": "stream",
          "name": "stdout",
          "text": [
            "              precision    recall  f1-score   support\n",
            "\n",
            "           1       0.83      0.94      0.88      5045\n",
            "           2       0.76      0.52      0.62      5021\n",
            "           3       0.67      0.77      0.72      4951\n",
            "           4       0.80      0.83      0.82      4983\n",
            "\n",
            "    accuracy                           0.77     20000\n",
            "   macro avg       0.77      0.77      0.76     20000\n",
            "weighted avg       0.77      0.77      0.76     20000\n",
            "\n",
            "Accuracy for the train dataset 78.7%\n",
            "Accuracy for the test dataset 76.5%\n"
          ]
        }
      ],
      "source": [
        "# Support Vector Machine | Final Evaluation\n",
        "\n",
        "# Create a SVM Classifier\n",
        "clf=SVC(gamma='auto', kernel='rbf', random_state=42)\n",
        "\n",
        "# Train & Test\n",
        "clf.fit(X_train[:20000], y_train[:20000])\n",
        "y_train_pred= clf.predict(X_train[:20000])\n",
        "y_test_pred= clf.predict(X_test[:20000])\n",
        "\n",
        "# Detailed report of classification done by model\n",
        "train_accuracy, test_accuracy = accuracy_score(y_train[:20000], y_train_pred), accuracy_score(y_test[:20000], y_test_pred)\n",
        "print(classification_report(y_test[:20000], y_test_pred))\n",
        "print(f'Accuracy for the train dataset {train_accuracy:.1%}')\n",
        "print(f'Accuracy for the test dataset {test_accuracy:.1%}')\n",
        "\n",
        "# storing the accuracy score\n",
        "result['Support Vector Machine'] = {round(train_accuracy*100, 1), round(test_accuracy*100,1)}"
      ]
    },
    {
      "cell_type": "markdown",
      "metadata": {
        "papermill": {
          "duration": 0.517769,
          "end_time": "2020-11-27T10:59:08.002171",
          "exception": false,
          "start_time": "2020-11-27T10:59:07.484402",
          "status": "completed"
        },
        "tags": [],
        "id": "PKDHf6zP-vMT"
      },
      "source": [
        "**Summary**: We are getting decent accuracy with SVM, but, the computation time is very high, even with limited dataset."
      ]
    },
    {
      "cell_type": "markdown",
      "metadata": {
        "papermill": {
          "duration": 0.505294,
          "end_time": "2020-11-27T10:59:09.015523",
          "exception": false,
          "start_time": "2020-11-27T10:59:08.510229",
          "status": "completed"
        },
        "tags": [],
        "id": "s6hk8UJl-vMT"
      },
      "source": [
        "#### BUILDING MODEL USING DECISION TREE"
      ]
    },
    {
      "cell_type": "code",
      "execution_count": 144,
      "metadata": {
        "execution": {
          "iopub.execute_input": "2020-11-27T11:04:36.216768Z",
          "iopub.status.busy": "2020-11-27T11:04:36.215918Z",
          "iopub.status.idle": "2020-11-27T11:05:04.247188Z",
          "shell.execute_reply": "2020-11-27T11:05:04.246048Z"
        },
        "papermill": {
          "duration": 28.554003,
          "end_time": "2020-11-27T11:05:04.247409",
          "exception": false,
          "start_time": "2020-11-27T11:04:35.693406",
          "status": "completed"
        },
        "tags": [],
        "id": "pxk_m-zP-vMU",
        "outputId": "73b1e522-3225-4f3a-c5c9-c86c13c0ec3f",
        "colab": {
          "base_uri": "https://localhost:8080/"
        }
      },
      "outputs": [
        {
          "output_type": "stream",
          "name": "stdout",
          "text": [
            "              precision    recall  f1-score   support\n",
            "\n",
            "           1       0.89      0.85      0.87      5045\n",
            "           2       0.65      0.66      0.65      5021\n",
            "           3       0.67      0.67      0.67      4951\n",
            "           4       0.86      0.88      0.87      4983\n",
            "\n",
            "    accuracy                           0.77     20000\n",
            "   macro avg       0.77      0.77      0.77     20000\n",
            "weighted avg       0.77      0.77      0.77     20000\n",
            "\n",
            "Accuracy for the train dataset 80.2%\n",
            "Accuracy for the test dataset 76.6%\n",
            "\n",
            "Important features:\n",
            " Weather_Timestamp    0.241109\n",
            "Source               0.189278\n",
            "Street               0.057178\n",
            "Distance(mi)         0.056246\n",
            "Keyword_2            0.045446\n",
            "Keyword_3            0.038465\n",
            "Zipcode              0.037176\n",
            "Side                 0.031444\n",
            "Start_Lat            0.031439\n",
            "Keyword_1            0.030468\n",
            "dtype: float64\n"
          ]
        }
      ],
      "source": [
        "# Decision Tree Algorithm | Final Evaluation\n",
        "\n",
        "# Instantiate a Decision Tree Classifier with Best Parameters\n",
        "clf = DecisionTreeClassifier(random_state=42)\n",
        "\n",
        "# Train & Test\n",
        "clf.fit(X_train[:20000], y_train[:20000])\n",
        "y_train_pred= clf.predict(X_train[:200000])\n",
        "y_test_pred= clf.predict(X_test[:20000])\n",
        "\n",
        "# Detailed report of classification done by model\n",
        "train_accuracy, test_accuracy = accuracy_score(y_train[:200000], y_train_pred), accuracy_score(y_test[:20000], y_test_pred)\n",
        "print(classification_report(y_test[:20000], y_test_pred))\n",
        "print(f'Accuracy for the train dataset {train_accuracy:.1%}')\n",
        "print(f'Accuracy for the test dataset {test_accuracy:.1%}')\n",
        "\n",
        "# Highlighting the significance of each of the factors in the model\n",
        "feature_imp = pd.Series(clf.feature_importances_,index=X.columns).sort_values(ascending=False)\n",
        "print(\"\\nImportant features:\\n\", feature_imp.sort_values(ascending=False)[:10])\n",
        "\n",
        "# storing the accuracy score\n",
        "result['Decision Tree'] = {round(train_accuracy*100, 1), round(test_accuracy*100,1)}"
      ]
    },
    {
      "cell_type": "markdown",
      "metadata": {
        "papermill": {
          "duration": 0.51256,
          "end_time": "2020-11-27T11:05:05.267944",
          "exception": false,
          "start_time": "2020-11-27T11:05:04.755384",
          "status": "completed"
        },
        "tags": [],
        "id": "1Fnm1pAT-vMU"
      },
      "source": [
        "**Summary**: We are getting decent accuracy with Decision Tree algorithm and computation time is also comparatively less."
      ]
    },
    {
      "cell_type": "markdown",
      "metadata": {
        "papermill": {
          "duration": 0.508759,
          "end_time": "2020-11-27T11:05:06.287573",
          "exception": false,
          "start_time": "2020-11-27T11:05:05.778814",
          "status": "completed"
        },
        "tags": [],
        "id": "Yq1CGcI_-vMU"
      },
      "source": [
        "#### BUILDING MODEL USING RANDOM FOREST"
      ]
    },
    {
      "cell_type": "code",
      "execution_count": 123,
      "metadata": {
        "execution": {
          "iopub.execute_input": "2020-11-27T11:11:14.172170Z",
          "iopub.status.busy": "2020-11-27T11:11:14.171358Z",
          "iopub.status.idle": "2020-11-27T11:14:41.941349Z",
          "shell.execute_reply": "2020-11-27T11:14:41.941986Z"
        },
        "papermill": {
          "duration": 208.295185,
          "end_time": "2020-11-27T11:14:41.942162",
          "exception": false,
          "start_time": "2020-11-27T11:11:13.646977",
          "status": "completed"
        },
        "tags": [],
        "id": "xgYc7V1T-vMV",
        "outputId": "26a3d1ff-9147-46d2-ecf1-d48afcb413bf",
        "colab": {
          "base_uri": "https://localhost:8080/"
        }
      },
      "outputs": [
        {
          "output_type": "stream",
          "name": "stdout",
          "text": [
            "              precision    recall  f1-score   support\n",
            "\n",
            "           1       0.88      0.94      0.91      5045\n",
            "           2       0.79      0.62      0.70      5021\n",
            "           3       0.73      0.75      0.74      4951\n",
            "           4       0.80      0.89      0.85      4983\n",
            "\n",
            "    accuracy                           0.80     20000\n",
            "   macro avg       0.80      0.80      0.80     20000\n",
            "weighted avg       0.80      0.80      0.80     20000\n",
            "\n",
            "Accuracy for the train dataset 81.2%\n",
            "Accuracy for the test dataset 80.3%\n",
            "\n",
            "Important features:\n",
            " Source                0.183118\n",
            "Weather_Timestamp     0.163063\n",
            "Distance(mi)          0.125110\n",
            "Year                  0.109456\n",
            "Time_Duration(min)    0.077454\n",
            "Street                0.065321\n",
            "Keyword_2             0.033694\n",
            "Month                 0.028320\n",
            "Side                  0.027799\n",
            "Traffic_Signal        0.021212\n",
            "dtype: float64\n"
          ]
        }
      ],
      "source": [
        "# Random Forest Algorithm | Final Evaluation\n",
        "\n",
        "# Create a Random Forest Classifier\n",
        "clf=RandomForestClassifier(n_estimators = 200, bootstrap = False, max_depth = 16, min_samples_leaf = 50, min_samples_split = 200, n_jobs=-1, random_state=42)\n",
        "\n",
        "# Train & Test\n",
        "clf.fit(X_train[:20000], y_train[:20000])\n",
        "y_train_pred= clf.predict(X_train[:20000])\n",
        "y_test_pred= clf.predict(X_test[:20000])\n",
        "\n",
        "# Detailed report of classification done by model\n",
        "train_accuracy, test_accuracy = accuracy_score(y_train[:20000], y_train_pred), accuracy_score(y_test[:20000], y_test_pred)\n",
        "print(classification_report(y_test[:20000], y_test_pred))\n",
        "print(f'Accuracy for the train dataset {train_accuracy:.1%}')\n",
        "print(f'Accuracy for the test dataset {test_accuracy:.1%}')\n",
        "\n",
        "# Highlighting the significance of each of the factors in the model\n",
        "feature_imp = pd.Series(clf.feature_importances_,index=X.columns).sort_values(ascending=False)\n",
        "print(\"\\nImportant features:\\n\", feature_imp.sort_values(ascending=False)[:10])\n",
        "\n",
        "# storing the accuracy score\n",
        "result['Random Forest'] = {round(train_accuracy*100, 1), round(test_accuracy*100,1)}"
      ]
    },
    {
      "cell_type": "markdown",
      "metadata": {
        "papermill": {
          "duration": 0.513841,
          "end_time": "2020-11-27T11:14:43.012527",
          "exception": false,
          "start_time": "2020-11-27T11:14:42.498686",
          "status": "completed"
        },
        "tags": [],
        "id": "lFfBkAZh-vMV"
      },
      "source": [
        "**Summary**: We are getting good accuracy with Random Forest algorithm and computation time is also comparatively less."
      ]
    },
    {
      "cell_type": "markdown",
      "metadata": {
        "papermill": {
          "duration": 0.511115,
          "end_time": "2020-11-27T11:14:45.192110",
          "exception": false,
          "start_time": "2020-11-27T11:14:44.680995",
          "status": "completed"
        },
        "tags": [],
        "id": "JZMfR3MP-vMV"
      },
      "source": [
        "#### BUILDING MODEL USING K-NEAREST NEIGHBOR (KNN)"
      ]
    },
    {
      "cell_type": "code",
      "execution_count": 125,
      "metadata": {
        "execution": {
          "iopub.execute_input": "2020-11-27T11:14:46.233306Z",
          "iopub.status.busy": "2020-11-27T11:14:46.232090Z",
          "iopub.status.idle": "2020-11-27T11:22:58.853763Z",
          "shell.execute_reply": "2020-11-27T11:22:58.854454Z"
        },
        "papermill": {
          "duration": 493.14847,
          "end_time": "2020-11-27T11:22:58.854641",
          "exception": false,
          "start_time": "2020-11-27T11:14:45.706171",
          "status": "completed"
        },
        "tags": [],
        "id": "bVfZdWTX-vMW",
        "outputId": "06b5c29d-9f34-4371-db4b-e4c5278543d8",
        "colab": {
          "base_uri": "https://localhost:8080/"
        }
      },
      "outputs": [
        {
          "output_type": "stream",
          "name": "stdout",
          "text": [
            "              precision    recall  f1-score   support\n",
            "\n",
            "           1       0.68      0.92      0.78      5045\n",
            "           2       0.60      0.50      0.54      5021\n",
            "           3       0.62      0.63      0.63      4951\n",
            "           4       0.79      0.62      0.70      4983\n",
            "\n",
            "    accuracy                           0.67     20000\n",
            "   macro avg       0.67      0.67      0.66     20000\n",
            "weighted avg       0.67      0.67      0.66     20000\n",
            "\n",
            "Accuracy for the train dataset 76.2%\n",
            "Accuracy for the test dataset 66.9%\n"
          ]
        }
      ],
      "source": [
        "# K-Nearest Neighbor | First Iteration\n",
        "\n",
        "# Create a k-NN classifier\n",
        "clf = KNeighborsClassifier(n_jobs=-1)\n",
        "\n",
        "# Train & Test\n",
        "clf.fit(X_train[:20000], y_train[:20000])\n",
        "y_train_pred= clf.predict(X_train[:20000])\n",
        "y_test_pred= clf.predict(X_test[:20000])\n",
        "\n",
        "# Detailed report of classification done by model\n",
        "\n",
        "train_accuracy, test_accuracy = accuracy_score(y_train[:20000], y_train_pred), accuracy_score(y_test[:20000], y_test_pred)\n",
        "print(classification_report(y_test[:20000], y_test_pred))\n",
        "print(f'Accuracy for the train dataset {train_accuracy:.1%}')\n",
        "print(f'Accuracy for the test dataset {test_accuracy:.1%}')\n",
        "\n",
        "# storing the accuracy score\n",
        "result['K-Nearest Neighbors'] = {round(train_accuracy*100, 1), round(test_accuracy*100,1)}"
      ]
    },
    {
      "cell_type": "markdown",
      "metadata": {
        "papermill": {
          "duration": 0.508743,
          "end_time": "2020-11-27T11:22:59.878193",
          "exception": false,
          "start_time": "2020-11-27T11:22:59.369450",
          "status": "completed"
        },
        "tags": [],
        "id": "z29eXKwT-vMW"
      },
      "source": [
        "**Summary**: We are getting poor accuracy with K-Nearest Neighbor algorithm and the computation time is very high, even with limited dataset."
      ]
    },
    {
      "cell_type": "markdown",
      "metadata": {
        "papermill": {
          "duration": 0.513243,
          "end_time": "2020-11-27T11:23:00.904434",
          "exception": false,
          "start_time": "2020-11-27T11:23:00.391191",
          "status": "completed"
        },
        "tags": [],
        "id": "XJy4zcCq-vMW"
      },
      "source": [
        "#### BUILDING MODEL USING NEURAL NETWORK"
      ]
    },
    {
      "cell_type": "code",
      "execution_count": 128,
      "metadata": {
        "execution": {
          "iopub.execute_input": "2020-11-27T11:23:01.951725Z",
          "iopub.status.busy": "2020-11-27T11:23:01.950847Z",
          "iopub.status.idle": "2020-11-27T11:27:52.858145Z",
          "shell.execute_reply": "2020-11-27T11:27:52.857456Z"
        },
        "papermill": {
          "duration": 291.440536,
          "end_time": "2020-11-27T11:27:52.858323",
          "exception": false,
          "start_time": "2020-11-27T11:23:01.417787",
          "status": "completed"
        },
        "scrolled": false,
        "tags": [],
        "id": "hIJDKRvq-vMW",
        "outputId": "4195c2ff-a618-4fbb-a632-5060c35ef3b6",
        "colab": {
          "base_uri": "https://localhost:8080/"
        }
      },
      "outputs": [
        {
          "output_type": "stream",
          "name": "stdout",
          "text": [
            "\n",
            "For Training Dataset: Loss: 0.18341359496116638 and Accuracy: 0.9307500123977661\n",
            "\n",
            "For Testing Dataset: Loss: 1.0807437896728516 and Accuracy: 0.7434999942779541\n"
          ]
        }
      ],
      "source": [
        "# Neural Network | First Iteration\n",
        "\n",
        "model = Sequential()\n",
        "model.add(Dense(128, input_dim=np.size(X_train,1), activation='relu'))\n",
        "model.add(Dense(64, input_dim=np.size(X_train,1), activation='relu'))\n",
        "model.add(Dense(5, activation='softmax'))\n",
        "\n",
        "# compile the model\n",
        "model.compile(optimizer='adam', loss='categorical_crossentropy', metrics=['accuracy'])\n",
        "\n",
        "# build the model\n",
        "history = model.fit(X_train[:20000], to_categorical(y_train[:20000].to_numpy()), \n",
        "                    epochs=50, validation_data=(X_val, to_categorical(y_val.to_numpy())), \n",
        "                    validation_steps=30, verbose=0)\n",
        "\n",
        "\n",
        "loss, train_accuracy = model.evaluate(X_train[:20000], to_categorical(y_train[:20000].to_numpy()), verbose=0)\n",
        "print(f\"\\nFor Training Dataset: Loss: {loss} and Accuracy: {train_accuracy}\")\n",
        "\n",
        "loss, test_accuracy = model.evaluate(X_test[:20000], to_categorical(y_test[:20000].to_numpy()), verbose=0)\n",
        "print(f\"\\nFor Testing Dataset: Loss: {loss} and Accuracy: {test_accuracy}\")\n",
        "\n",
        "# storing the accuracy score\n",
        "result['Neural Network'] = {round(train_accuracy*100, 1), round(test_accuracy*100,1)}"
      ]
    },
    {
      "cell_type": "markdown",
      "metadata": {
        "papermill": {
          "duration": 0.526185,
          "end_time": "2020-11-27T11:27:53.919966",
          "exception": false,
          "start_time": "2020-11-27T11:27:53.393781",
          "status": "completed"
        },
        "tags": [],
        "id": "Qz2EMOBy-vMX"
      },
      "source": [
        "**Summary**: We are getting decent accuracy with Neural Network and computation time is also comparatively less."
      ]
    },
    {
      "cell_type": "code",
      "execution_count": 187,
      "metadata": {
        "execution": {
          "iopub.execute_input": "2020-11-27T11:27:55.023610Z",
          "iopub.status.busy": "2020-11-27T11:27:55.022818Z",
          "iopub.status.idle": "2020-11-27T11:27:55.027551Z",
          "shell.execute_reply": "2020-11-27T11:27:55.026717Z"
        },
        "papermill": {
          "duration": 0.56821,
          "end_time": "2020-11-27T11:27:55.027688",
          "exception": false,
          "start_time": "2020-11-27T11:27:54.459478",
          "status": "completed"
        },
        "tags": [],
        "id": "cXfl_F-Z-vMX",
        "colab": {
          "base_uri": "https://localhost:8080/",
          "height": 206
        },
        "outputId": "34e196fc-52e5-419e-f6e0-2e1d049c1703"
      },
      "outputs": [
        {
          "output_type": "execute_result",
          "data": {
            "text/plain": [
              "                    index  Test Accuracy  Train Accuracy\n",
              "0  Support Vector Machine           76.5            78.7\n",
              "1           Decision Tree           80.2            76.6\n",
              "2           Random Forest           80.3            81.2\n",
              "3     K-Nearest Neighbors           66.9            76.2\n",
              "4          Neural Network           74.3            93.1"
            ],
            "text/html": [
              "\n",
              "  <div id=\"df-4595297b-1179-4fc3-816f-7864074dd92e\">\n",
              "    <div class=\"colab-df-container\">\n",
              "      <div>\n",
              "<style scoped>\n",
              "    .dataframe tbody tr th:only-of-type {\n",
              "        vertical-align: middle;\n",
              "    }\n",
              "\n",
              "    .dataframe tbody tr th {\n",
              "        vertical-align: top;\n",
              "    }\n",
              "\n",
              "    .dataframe thead th {\n",
              "        text-align: right;\n",
              "    }\n",
              "</style>\n",
              "<table border=\"1\" class=\"dataframe\">\n",
              "  <thead>\n",
              "    <tr style=\"text-align: right;\">\n",
              "      <th></th>\n",
              "      <th>index</th>\n",
              "      <th>Test Accuracy</th>\n",
              "      <th>Train Accuracy</th>\n",
              "    </tr>\n",
              "  </thead>\n",
              "  <tbody>\n",
              "    <tr>\n",
              "      <th>0</th>\n",
              "      <td>Support Vector Machine</td>\n",
              "      <td>76.5</td>\n",
              "      <td>78.7</td>\n",
              "    </tr>\n",
              "    <tr>\n",
              "      <th>1</th>\n",
              "      <td>Decision Tree</td>\n",
              "      <td>80.2</td>\n",
              "      <td>76.6</td>\n",
              "    </tr>\n",
              "    <tr>\n",
              "      <th>2</th>\n",
              "      <td>Random Forest</td>\n",
              "      <td>80.3</td>\n",
              "      <td>81.2</td>\n",
              "    </tr>\n",
              "    <tr>\n",
              "      <th>3</th>\n",
              "      <td>K-Nearest Neighbors</td>\n",
              "      <td>66.9</td>\n",
              "      <td>76.2</td>\n",
              "    </tr>\n",
              "    <tr>\n",
              "      <th>4</th>\n",
              "      <td>Neural Network</td>\n",
              "      <td>74.3</td>\n",
              "      <td>93.1</td>\n",
              "    </tr>\n",
              "  </tbody>\n",
              "</table>\n",
              "</div>\n",
              "      <button class=\"colab-df-convert\" onclick=\"convertToInteractive('df-4595297b-1179-4fc3-816f-7864074dd92e')\"\n",
              "              title=\"Convert this dataframe to an interactive table.\"\n",
              "              style=\"display:none;\">\n",
              "        \n",
              "  <svg xmlns=\"http://www.w3.org/2000/svg\" height=\"24px\"viewBox=\"0 0 24 24\"\n",
              "       width=\"24px\">\n",
              "    <path d=\"M0 0h24v24H0V0z\" fill=\"none\"/>\n",
              "    <path d=\"M18.56 5.44l.94 2.06.94-2.06 2.06-.94-2.06-.94-.94-2.06-.94 2.06-2.06.94zm-11 1L8.5 8.5l.94-2.06 2.06-.94-2.06-.94L8.5 2.5l-.94 2.06-2.06.94zm10 10l.94 2.06.94-2.06 2.06-.94-2.06-.94-.94-2.06-.94 2.06-2.06.94z\"/><path d=\"M17.41 7.96l-1.37-1.37c-.4-.4-.92-.59-1.43-.59-.52 0-1.04.2-1.43.59L10.3 9.45l-7.72 7.72c-.78.78-.78 2.05 0 2.83L4 21.41c.39.39.9.59 1.41.59.51 0 1.02-.2 1.41-.59l7.78-7.78 2.81-2.81c.8-.78.8-2.07 0-2.86zM5.41 20L4 18.59l7.72-7.72 1.47 1.35L5.41 20z\"/>\n",
              "  </svg>\n",
              "      </button>\n",
              "      \n",
              "  <style>\n",
              "    .colab-df-container {\n",
              "      display:flex;\n",
              "      flex-wrap:wrap;\n",
              "      gap: 12px;\n",
              "    }\n",
              "\n",
              "    .colab-df-convert {\n",
              "      background-color: #E8F0FE;\n",
              "      border: none;\n",
              "      border-radius: 50%;\n",
              "      cursor: pointer;\n",
              "      display: none;\n",
              "      fill: #1967D2;\n",
              "      height: 32px;\n",
              "      padding: 0 0 0 0;\n",
              "      width: 32px;\n",
              "    }\n",
              "\n",
              "    .colab-df-convert:hover {\n",
              "      background-color: #E2EBFA;\n",
              "      box-shadow: 0px 1px 2px rgba(60, 64, 67, 0.3), 0px 1px 3px 1px rgba(60, 64, 67, 0.15);\n",
              "      fill: #174EA6;\n",
              "    }\n",
              "\n",
              "    [theme=dark] .colab-df-convert {\n",
              "      background-color: #3B4455;\n",
              "      fill: #D2E3FC;\n",
              "    }\n",
              "\n",
              "    [theme=dark] .colab-df-convert:hover {\n",
              "      background-color: #434B5C;\n",
              "      box-shadow: 0px 1px 3px 1px rgba(0, 0, 0, 0.15);\n",
              "      filter: drop-shadow(0px 1px 2px rgba(0, 0, 0, 0.3));\n",
              "      fill: #FFFFFF;\n",
              "    }\n",
              "  </style>\n",
              "\n",
              "      <script>\n",
              "        const buttonEl =\n",
              "          document.querySelector('#df-4595297b-1179-4fc3-816f-7864074dd92e button.colab-df-convert');\n",
              "        buttonEl.style.display =\n",
              "          google.colab.kernel.accessAllowed ? 'block' : 'none';\n",
              "\n",
              "        async function convertToInteractive(key) {\n",
              "          const element = document.querySelector('#df-4595297b-1179-4fc3-816f-7864074dd92e');\n",
              "          const dataTable =\n",
              "            await google.colab.kernel.invokeFunction('convertToInteractive',\n",
              "                                                     [key], {});\n",
              "          if (!dataTable) return;\n",
              "\n",
              "          const docLinkHtml = 'Like what you see? Visit the ' +\n",
              "            '<a target=\"_blank\" href=https://colab.research.google.com/notebooks/data_table.ipynb>data table notebook</a>'\n",
              "            + ' to learn more about interactive tables.';\n",
              "          element.innerHTML = '';\n",
              "          dataTable['output_type'] = 'display_data';\n",
              "          await google.colab.output.renderOutput(dataTable, element);\n",
              "          const docLink = document.createElement('div');\n",
              "          docLink.innerHTML = docLinkHtml;\n",
              "          element.appendChild(docLink);\n",
              "        }\n",
              "      </script>\n",
              "    </div>\n",
              "  </div>\n",
              "  "
            ]
          },
          "metadata": {},
          "execution_count": 187
        }
      ],
      "source": [
        "# Showing the results\n",
        "res_df = pd.DataFrame.from_dict({i: result[i] for i in result.keys()},orient='index', columns = [\"Test Accuracy\", \"Train Accuracy\"])\n",
        "res_df = res_df.reset_index(level=0)\n",
        "res_df"
      ]
    },
    {
      "cell_type": "code",
      "source": [
        "res_df.plot.bar(x='index', y=[\"Train Accuracy\", \"Test Accuracy\"], rot=0, figsize = (15,7), grid=True)"
      ],
      "metadata": {
        "colab": {
          "base_uri": "https://localhost:8080/",
          "height": 459
        },
        "id": "i26cbeQfyHK6",
        "outputId": "01a9d83a-1158-4ded-c231-03bcaa2c4235"
      },
      "execution_count": 189,
      "outputs": [
        {
          "output_type": "execute_result",
          "data": {
            "text/plain": [
              "<matplotlib.axes._subplots.AxesSubplot at 0x7fb6b0daf220>"
            ]
          },
          "metadata": {},
          "execution_count": 189
        },
        {
          "output_type": "display_data",
          "data": {
            "text/plain": [
              "<Figure size 1080x504 with 1 Axes>"
            ],
            "image/png": "[encoded data removed]"
          },
          "metadata": {}
        }
      ]
    }
  ],
  "metadata": {
    "kernelspec": {
      "display_name": "Python 3",
      "language": "python",
      "name": "python3"
    },
    "language_info": {
      "codemirror_mode": {
        "name": "ipython",
        "version": 3
      },
      "file_extension": ".py",
      "mimetype": "text/x-python",
      "name": "python",
      "nbconvert_exporter": "python",
      "pygments_lexer": "ipython3",
      "version": "3.7.6"
    },
    "papermill": {
      "duration": 15150.731029,
      "end_time": "2020-11-27T12:50:30.830042",
      "environment_variables": {},
      "exception": null,
      "input_path": "__notebook__.ipynb",
      "output_path": "__notebook__.ipynb",
      "parameters": {},
      "start_time": "2020-11-27T08:38:00.099013",
      "version": "2.1.0"
    },
    "colab": {
      "provenance": []
    },
    "widgets": {
      "application/vnd.jupyter.widget-state+json": {
        "9790c035f8bc471e9092845531f6811e": {
          "model_module": "@jupyter-widgets/controls",
          "model_name": "HBoxModel",
          "model_module_version": "1.5.0",
          "state": {
            "_dom_classes": [],
            "_model_module": "@jupyter-widgets/controls",
            "_model_module_version": "1.5.0",
            "_model_name": "HBoxModel",
            "_view_count": null,
            "_view_module": "@jupyter-widgets/controls",
            "_view_module_version": "1.5.0",
            "_view_name": "HBoxView",
            "box_style": "",
            "children": [
              "IPY_MODEL_b27c197db9114371b3ceabea5705c18a",
              "IPY_MODEL_828d3250754b42f1b1bb466dbb2f1028",
              "IPY_MODEL_15b87813d3e74dd3bc81acaca5052bd1"
            ],
            "layout": "IPY_MODEL_00039945c4124ce5b8c42cba1c086b47"
          }
        },
        "b27c197db9114371b3ceabea5705c18a": {
          "model_module": "@jupyter-widgets/controls",
          "model_name": "HTMLModel",
          "model_module_version": "1.5.0",
          "state": {
            "_dom_classes": [],
            "_model_module": "@jupyter-widgets/controls",
            "_model_module_version": "1.5.0",
            "_model_name": "HTMLModel",
            "_view_count": null,
            "_view_module": "@jupyter-widgets/controls",
            "_view_module_version": "1.5.0",
            "_view_name": "HTMLView",
            "description": "",
            "description_tooltip": null,
            "layout": "IPY_MODEL_be728d0f8f0f4de699cdb222f0091a93",
            "placeholder": "​",
            "style": "IPY_MODEL_1acd38302d9b48bcafa88a21fbf83457",
            "value": "Pandas Apply: 100%"
          }
        },
        "828d3250754b42f1b1bb466dbb2f1028": {
          "model_module": "@jupyter-widgets/controls",
          "model_name": "FloatProgressModel",
          "model_module_version": "1.5.0",
          "state": {
            "_dom_classes": [],
            "_model_module": "@jupyter-widgets/controls",
            "_model_module_version": "1.5.0",
            "_model_name": "FloatProgressModel",
            "_view_count": null,
            "_view_module": "@jupyter-widgets/controls",
            "_view_module_version": "1.5.0",
            "_view_name": "ProgressView",
            "bar_style": "success",
            "description": "",
            "description_tooltip": null,
            "layout": "IPY_MODEL_d9fc1adffcc5480785bad0e79a40b93d",
            "max": 3390171,
            "min": 0,
            "orientation": "horizontal",
            "style": "IPY_MODEL_f09f8bf2de4d4e1dad92de2a83aaa64b",
            "value": 3390171
          }
        },
        "15b87813d3e74dd3bc81acaca5052bd1": {
          "model_module": "@jupyter-widgets/controls",
          "model_name": "HTMLModel",
          "model_module_version": "1.5.0",
          "state": {
            "_dom_classes": [],
            "_model_module": "@jupyter-widgets/controls",
            "_model_module_version": "1.5.0",
            "_model_name": "HTMLModel",
            "_view_count": null,
            "_view_module": "@jupyter-widgets/controls",
            "_view_module_version": "1.5.0",
            "_view_name": "HTMLView",
            "description": "",
            "description_tooltip": null,
            "layout": "IPY_MODEL_05b01854317a44cebe7d5a447161c932",
            "placeholder": "​",
            "style": "IPY_MODEL_8382e9676d5344248593913a58d3c196",
            "value": " 3390171/3390171 [00:36&lt;00:00, 118520.69it/s]"
          }
        },
        "00039945c4124ce5b8c42cba1c086b47": {
          "model_module": "@jupyter-widgets/base",
          "model_name": "LayoutModel",
          "model_module_version": "1.2.0",
          "state": {
            "_model_module": "@jupyter-widgets/base",
            "_model_module_version": "1.2.0",
            "_model_name": "LayoutModel",
            "_view_count": null,
            "_view_module": "@jupyter-widgets/base",
            "_view_module_version": "1.2.0",
            "_view_name": "LayoutView",
            "align_content": null,
            "align_items": null,
            "align_self": null,
            "border": null,
            "bottom": null,
            "display": null,
            "flex": null,
            "flex_flow": null,
            "grid_area": null,
            "grid_auto_columns": null,
            "grid_auto_flow": null,
            "grid_auto_rows": null,
            "grid_column": null,
            "grid_gap": null,
            "grid_row": null,
            "grid_template_areas": null,
            "grid_template_columns": null,
            "grid_template_rows": null,
            "height": null,
            "justify_content": null,
            "justify_items": null,
            "left": null,
            "margin": null,
            "max_height": null,
            "max_width": null,
            "min_height": null,
            "min_width": null,
            "object_fit": null,
            "object_position": null,
            "order": null,
            "overflow": null,
            "overflow_x": null,
            "overflow_y": null,
            "padding": null,
            "right": null,
            "top": null,
            "visibility": null,
            "width": null
          }
        },
        "be728d0f8f0f4de699cdb222f0091a93": {
          "model_module": "@jupyter-widgets/base",
          "model_name": "LayoutModel",
          "model_module_version": "1.2.0",
          "state": {
            "_model_module": "@jupyter-widgets/base",
            "_model_module_version": "1.2.0",
            "_model_name": "LayoutModel",
            "_view_count": null,
            "_view_module": "@jupyter-widgets/base",
            "_view_module_version": "1.2.0",
            "_view_name": "LayoutView",
            "align_content": null,
            "align_items": null,
            "align_self": null,
            "border": null,
            "bottom": null,
            "display": null,
            "flex": null,
            "flex_flow": null,
            "grid_area": null,
            "grid_auto_columns": null,
            "grid_auto_flow": null,
            "grid_auto_rows": null,
            "grid_column": null,
            "grid_gap": null,
            "grid_row": null,
            "grid_template_areas": null,
            "grid_template_columns": null,
            "grid_template_rows": null,
            "height": null,
            "justify_content": null,
            "justify_items": null,
            "left": null,
            "margin": null,
            "max_height": null,
            "max_width": null,
            "min_height": null,
            "min_width": null,
            "object_fit": null,
            "object_position": null,
            "order": null,
            "overflow": null,
            "overflow_x": null,
            "overflow_y": null,
            "padding": null,
            "right": null,
            "top": null,
            "visibility": null,
            "width": null
          }
        },
        "1acd38302d9b48bcafa88a21fbf83457": {
          "model_module": "@jupyter-widgets/controls",
          "model_name": "DescriptionStyleModel",
          "model_module_version": "1.5.0",
          "state": {
            "_model_module": "@jupyter-widgets/controls",
            "_model_module_version": "1.5.0",
            "_model_name": "DescriptionStyleModel",
            "_view_count": null,
            "_view_module": "@jupyter-widgets/base",
            "_view_module_version": "1.2.0",
            "_view_name": "StyleView",
            "description_width": ""
          }
        },
        "d9fc1adffcc5480785bad0e79a40b93d": {
          "model_module": "@jupyter-widgets/base",
          "model_name": "LayoutModel",
          "model_module_version": "1.2.0",
          "state": {
            "_model_module": "@jupyter-widgets/base",
            "_model_module_version": "1.2.0",
            "_model_name": "LayoutModel",
            "_view_count": null,
            "_view_module": "@jupyter-widgets/base",
            "_view_module_version": "1.2.0",
            "_view_name": "LayoutView",
            "align_content": null,
            "align_items": null,
            "align_self": null,
            "border": null,
            "bottom": null,
            "display": null,
            "flex": null,
            "flex_flow": null,
            "grid_area": null,
            "grid_auto_columns": null,
            "grid_auto_flow": null,
            "grid_auto_rows": null,
            "grid_column": null,
            "grid_gap": null,
            "grid_row": null,
            "grid_template_areas": null,
            "grid_template_columns": null,
            "grid_template_rows": null,
            "height": null,
            "justify_content": null,
            "justify_items": null,
            "left": null,
            "margin": null,
            "max_height": null,
            "max_width": null,
            "min_height": null,
            "min_width": null,
            "object_fit": null,
            "object_position": null,
            "order": null,
            "overflow": null,
            "overflow_x": null,
            "overflow_y": null,
            "padding": null,
            "right": null,
            "top": null,
            "visibility": null,
            "width": null
          }
        },
        "f09f8bf2de4d4e1dad92de2a83aaa64b": {
          "model_module": "@jupyter-widgets/controls",
          "model_name": "ProgressStyleModel",
          "model_module_version": "1.5.0",
          "state": {
            "_model_module": "@jupyter-widgets/controls",
            "_model_module_version": "1.5.0",
            "_model_name": "ProgressStyleModel",
            "_view_count": null,
            "_view_module": "@jupyter-widgets/base",
            "_view_module_version": "1.2.0",
            "_view_name": "StyleView",
            "bar_color": null,
            "description_width": ""
          }
        },
        "05b01854317a44cebe7d5a447161c932": {
          "model_module": "@jupyter-widgets/base",
          "model_name": "LayoutModel",
          "model_module_version": "1.2.0",
          "state": {
            "_model_module": "@jupyter-widgets/base",
            "_model_module_version": "1.2.0",
            "_model_name": "LayoutModel",
            "_view_count": null,
            "_view_module": "@jupyter-widgets/base",
            "_view_module_version": "1.2.0",
            "_view_name": "LayoutView",
            "align_content": null,
            "align_items": null,
            "align_self": null,
            "border": null,
            "bottom": null,
            "display": null,
            "flex": null,
            "flex_flow": null,
            "grid_area": null,
            "grid_auto_columns": null,
            "grid_auto_flow": null,
            "grid_auto_rows": null,
            "grid_column": null,
            "grid_gap": null,
            "grid_row": null,
            "grid_template_areas": null,
            "grid_template_columns": null,
            "grid_template_rows": null,
            "height": null,
            "justify_content": null,
            "justify_items": null,
            "left": null,
            "margin": null,
            "max_height": null,
            "max_width": null,
            "min_height": null,
            "min_width": null,
            "object_fit": null,
            "object_position": null,
            "order": null,
            "overflow": null,
            "overflow_x": null,
            "overflow_y": null,
            "padding": null,
            "right": null,
            "top": null,
            "visibility": null,
            "width": null
          }
        },
        "8382e9676d5344248593913a58d3c196": {
          "model_module": "@jupyter-widgets/controls",
          "model_name": "DescriptionStyleModel",
          "model_module_version": "1.5.0",
          "state": {
            "_model_module": "@jupyter-widgets/controls",
            "_model_module_version": "1.5.0",
            "_model_name": "DescriptionStyleModel",
            "_view_count": null,
            "_view_module": "@jupyter-widgets/base",
            "_view_module_version": "1.2.0",
            "_view_name": "StyleView",
            "description_width": ""
          }
        },
        "9e0b0d2aed074f85b71d60ae3e8301a0": {
          "model_module": "@jupyter-widgets/controls",
          "model_name": "HBoxModel",
          "model_module_version": "1.5.0",
          "state": {
            "_dom_classes": [],
            "_model_module": "@jupyter-widgets/controls",
            "_model_module_version": "1.5.0",
            "_model_name": "HBoxModel",
            "_view_count": null,
            "_view_module": "@jupyter-widgets/controls",
            "_view_module_version": "1.5.0",
            "_view_name": "HBoxView",
            "box_style": "",
            "children": [
              "IPY_MODEL_97a67a5b54914b789844600cc81aac0b",
              "IPY_MODEL_79ad2f45c156452884ba5bd1a00b26e0",
              "IPY_MODEL_0489f4c910284392936c1271f417efab"
            ],
            "layout": "IPY_MODEL_cbfd8e5809fd4b149484ee790edb7867"
          }
        },
        "97a67a5b54914b789844600cc81aac0b": {
          "model_module": "@jupyter-widgets/controls",
          "model_name": "HTMLModel",
          "model_module_version": "1.5.0",
          "state": {
            "_dom_classes": [],
            "_model_module": "@jupyter-widgets/controls",
            "_model_module_version": "1.5.0",
            "_model_name": "HTMLModel",
            "_view_count": null,
            "_view_module": "@jupyter-widgets/controls",
            "_view_module_version": "1.5.0",
            "_view_name": "HTMLView",
            "description": "",
            "description_tooltip": null,
            "layout": "IPY_MODEL_3599d3292c014dfea5c73e219b89f0f3",
            "placeholder": "​",
            "style": "IPY_MODEL_71097c9187b24c84855a74107ec54396",
            "value": "Pandas Apply: 100%"
          }
        },
        "79ad2f45c156452884ba5bd1a00b26e0": {
          "model_module": "@jupyter-widgets/controls",
          "model_name": "FloatProgressModel",
          "model_module_version": "1.5.0",
          "state": {
            "_dom_classes": [],
            "_model_module": "@jupyter-widgets/controls",
            "_model_module_version": "1.5.0",
            "_model_name": "FloatProgressModel",
            "_view_count": null,
            "_view_module": "@jupyter-widgets/controls",
            "_view_module_version": "1.5.0",
            "_view_name": "ProgressView",
            "bar_style": "success",
            "description": "",
            "description_tooltip": null,
            "layout": "IPY_MODEL_e5477e121b244bdeb731dba6b0ab4fcd",
            "max": 3390171,
            "min": 0,
            "orientation": "horizontal",
            "style": "IPY_MODEL_193b1240b5a745edb0e62260a483afcc",
            "value": 3390171
          }
        },
        "0489f4c910284392936c1271f417efab": {
          "model_module": "@jupyter-widgets/controls",
          "model_name": "HTMLModel",
          "model_module_version": "1.5.0",
          "state": {
            "_dom_classes": [],
            "_model_module": "@jupyter-widgets/controls",
            "_model_module_version": "1.5.0",
            "_model_name": "HTMLModel",
            "_view_count": null,
            "_view_module": "@jupyter-widgets/controls",
            "_view_module_version": "1.5.0",
            "_view_name": "HTMLView",
            "description": "",
            "description_tooltip": null,
            "layout": "IPY_MODEL_156b569d3cc64664be693ec246aaf053",
            "placeholder": "​",
            "style": "IPY_MODEL_fe5a7d0629f0440f93dab9dcb37fb324",
            "value": " 3390171/3390171 [00:13&lt;00:00, 291339.84it/s]"
          }
        },
        "cbfd8e5809fd4b149484ee790edb7867": {
          "model_module": "@jupyter-widgets/base",
          "model_name": "LayoutModel",
          "model_module_version": "1.2.0",
          "state": {
            "_model_module": "@jupyter-widgets/base",
            "_model_module_version": "1.2.0",
            "_model_name": "LayoutModel",
            "_view_count": null,
            "_view_module": "@jupyter-widgets/base",
            "_view_module_version": "1.2.0",
            "_view_name": "LayoutView",
            "align_content": null,
            "align_items": null,
            "align_self": null,
            "border": null,
            "bottom": null,
            "display": null,
            "flex": null,
            "flex_flow": null,
            "grid_area": null,
            "grid_auto_columns": null,
            "grid_auto_flow": null,
            "grid_auto_rows": null,
            "grid_column": null,
            "grid_gap": null,
            "grid_row": null,
            "grid_template_areas": null,
            "grid_template_columns": null,
            "grid_template_rows": null,
            "height": null,
            "justify_content": null,
            "justify_items": null,
            "left": null,
            "margin": null,
            "max_height": null,
            "max_width": null,
            "min_height": null,
            "min_width": null,
            "object_fit": null,
            "object_position": null,
            "order": null,
            "overflow": null,
            "overflow_x": null,
            "overflow_y": null,
            "padding": null,
            "right": null,
            "top": null,
            "visibility": null,
            "width": null
          }
        },
        "3599d3292c014dfea5c73e219b89f0f3": {
          "model_module": "@jupyter-widgets/base",
          "model_name": "LayoutModel",
          "model_module_version": "1.2.0",
          "state": {
            "_model_module": "@jupyter-widgets/base",
            "_model_module_version": "1.2.0",
            "_model_name": "LayoutModel",
            "_view_count": null,
            "_view_module": "@jupyter-widgets/base",
            "_view_module_version": "1.2.0",
            "_view_name": "LayoutView",
            "align_content": null,
            "align_items": null,
            "align_self": null,
            "border": null,
            "bottom": null,
            "display": null,
            "flex": null,
            "flex_flow": null,
            "grid_area": null,
            "grid_auto_columns": null,
            "grid_auto_flow": null,
            "grid_auto_rows": null,
            "grid_column": null,
            "grid_gap": null,
            "grid_row": null,
            "grid_template_areas": null,
            "grid_template_columns": null,
            "grid_template_rows": null,
            "height": null,
            "justify_content": null,
            "justify_items": null,
            "left": null,
            "margin": null,
            "max_height": null,
            "max_width": null,
            "min_height": null,
            "min_width": null,
            "object_fit": null,
            "object_position": null,
            "order": null,
            "overflow": null,
            "overflow_x": null,
            "overflow_y": null,
            "padding": null,
            "right": null,
            "top": null,
            "visibility": null,
            "width": null
          }
        },
        "71097c9187b24c84855a74107ec54396": {
          "model_module": "@jupyter-widgets/controls",
          "model_name": "DescriptionStyleModel",
          "model_module_version": "1.5.0",
          "state": {
            "_model_module": "@jupyter-widgets/controls",
            "_model_module_version": "1.5.0",
            "_model_name": "DescriptionStyleModel",
            "_view_count": null,
            "_view_module": "@jupyter-widgets/base",
            "_view_module_version": "1.2.0",
            "_view_name": "StyleView",
            "description_width": ""
          }
        },
        "e5477e121b244bdeb731dba6b0ab4fcd": {
          "model_module": "@jupyter-widgets/base",
          "model_name": "LayoutModel",
          "model_module_version": "1.2.0",
          "state": {
            "_model_module": "@jupyter-widgets/base",
            "_model_module_version": "1.2.0",
            "_model_name": "LayoutModel",
            "_view_count": null,
            "_view_module": "@jupyter-widgets/base",
            "_view_module_version": "1.2.0",
            "_view_name": "LayoutView",
            "align_content": null,
            "align_items": null,
            "align_self": null,
            "border": null,
            "bottom": null,
            "display": null,
            "flex": null,
            "flex_flow": null,
            "grid_area": null,
            "grid_auto_columns": null,
            "grid_auto_flow": null,
            "grid_auto_rows": null,
            "grid_column": null,
            "grid_gap": null,
            "grid_row": null,
            "grid_template_areas": null,
            "grid_template_columns": null,
            "grid_template_rows": null,
            "height": null,
            "justify_content": null,
            "justify_items": null,
            "left": null,
            "margin": null,
            "max_height": null,
            "max_width": null,
            "min_height": null,
            "min_width": null,
            "object_fit": null,
            "object_position": null,
            "order": null,
            "overflow": null,
            "overflow_x": null,
            "overflow_y": null,
            "padding": null,
            "right": null,
            "top": null,
            "visibility": null,
            "width": null
          }
        },
        "193b1240b5a745edb0e62260a483afcc": {
          "model_module": "@jupyter-widgets/controls",
          "model_name": "ProgressStyleModel",
          "model_module_version": "1.5.0",
          "state": {
            "_model_module": "@jupyter-widgets/controls",
            "_model_module_version": "1.5.0",
            "_model_name": "ProgressStyleModel",
            "_view_count": null,
            "_view_module": "@jupyter-widgets/base",
            "_view_module_version": "1.2.0",
            "_view_name": "StyleView",
            "bar_color": null,
            "description_width": ""
          }
        },
        "156b569d3cc64664be693ec246aaf053": {
          "model_module": "@jupyter-widgets/base",
          "model_name": "LayoutModel",
          "model_module_version": "1.2.0",
          "state": {
            "_model_module": "@jupyter-widgets/base",
            "_model_module_version": "1.2.0",
            "_model_name": "LayoutModel",
            "_view_count": null,
            "_view_module": "@jupyter-widgets/base",
            "_view_module_version": "1.2.0",
            "_view_name": "LayoutView",
            "align_content": null,
            "align_items": null,
            "align_self": null,
            "border": null,
            "bottom": null,
            "display": null,
            "flex": null,
            "flex_flow": null,
            "grid_area": null,
            "grid_auto_columns": null,
            "grid_auto_flow": null,
            "grid_auto_rows": null,
            "grid_column": null,
            "grid_gap": null,
            "grid_row": null,
            "grid_template_areas": null,
            "grid_template_columns": null,
            "grid_template_rows": null,
            "height": null,
            "justify_content": null,
            "justify_items": null,
            "left": null,
            "margin": null,
            "max_height": null,
            "max_width": null,
            "min_height": null,
            "min_width": null,
            "object_fit": null,
            "object_position": null,
            "order": null,
            "overflow": null,
            "overflow_x": null,
            "overflow_y": null,
            "padding": null,
            "right": null,
            "top": null,
            "visibility": null,
            "width": null
          }
        },
        "fe5a7d0629f0440f93dab9dcb37fb324": {
          "model_module": "@jupyter-widgets/controls",
          "model_name": "DescriptionStyleModel",
          "model_module_version": "1.5.0",
          "state": {
            "_model_module": "@jupyter-widgets/controls",
            "_model_module_version": "1.5.0",
            "_model_name": "DescriptionStyleModel",
            "_view_count": null,
            "_view_module": "@jupyter-widgets/base",
            "_view_module_version": "1.2.0",
            "_view_name": "StyleView",
            "description_width": ""
          }
        },
        "f0ee3b0dcc0c45a98ff7adbb5e22772d": {
          "model_module": "@jupyter-widgets/controls",
          "model_name": "HBoxModel",
          "model_module_version": "1.5.0",
          "state": {
            "_dom_classes": [],
            "_model_module": "@jupyter-widgets/controls",
            "_model_module_version": "1.5.0",
            "_model_name": "HBoxModel",
            "_view_count": null,
            "_view_module": "@jupyter-widgets/controls",
            "_view_module_version": "1.5.0",
            "_view_name": "HBoxView",
            "box_style": "",
            "children": [
              "IPY_MODEL_2a3a4c700db7419d949dda18f029397b",
              "IPY_MODEL_cc4f42dd81b54b1baf29c1a9ef6d8cb9",
              "IPY_MODEL_158d20332ac1484ba6e4ff1a14badf4c"
            ],
            "layout": "IPY_MODEL_f38f35287c6b4c78839873aca942681c"
          }
        },
        "2a3a4c700db7419d949dda18f029397b": {
          "model_module": "@jupyter-widgets/controls",
          "model_name": "HTMLModel",
          "model_module_version": "1.5.0",
          "state": {
            "_dom_classes": [],
            "_model_module": "@jupyter-widgets/controls",
            "_model_module_version": "1.5.0",
            "_model_name": "HTMLModel",
            "_view_count": null,
            "_view_module": "@jupyter-widgets/controls",
            "_view_module_version": "1.5.0",
            "_view_name": "HTMLView",
            "description": "",
            "description_tooltip": null,
            "layout": "IPY_MODEL_ddd256e79d984fe9a225d9ec877cef51",
            "placeholder": "​",
            "style": "IPY_MODEL_1a6d738aa5ac4953b3239c755c8a7ada",
            "value": "Pandas Apply: 100%"
          }
        },
        "cc4f42dd81b54b1baf29c1a9ef6d8cb9": {
          "model_module": "@jupyter-widgets/controls",
          "model_name": "FloatProgressModel",
          "model_module_version": "1.5.0",
          "state": {
            "_dom_classes": [],
            "_model_module": "@jupyter-widgets/controls",
            "_model_module_version": "1.5.0",
            "_model_name": "FloatProgressModel",
            "_view_count": null,
            "_view_module": "@jupyter-widgets/controls",
            "_view_module_version": "1.5.0",
            "_view_name": "ProgressView",
            "bar_style": "success",
            "description": "",
            "description_tooltip": null,
            "layout": "IPY_MODEL_bb4e498de18448fc8ddf88459ed5e97f",
            "max": 3390171,
            "min": 0,
            "orientation": "horizontal",
            "style": "IPY_MODEL_b5aeb524e5b145a8b7f3c1f95e5f16d3",
            "value": 3390171
          }
        },
        "158d20332ac1484ba6e4ff1a14badf4c": {
          "model_module": "@jupyter-widgets/controls",
          "model_name": "HTMLModel",
          "model_module_version": "1.5.0",
          "state": {
            "_dom_classes": [],
            "_model_module": "@jupyter-widgets/controls",
            "_model_module_version": "1.5.0",
            "_model_name": "HTMLModel",
            "_view_count": null,
            "_view_module": "@jupyter-widgets/controls",
            "_view_module_version": "1.5.0",
            "_view_name": "HTMLView",
            "description": "",
            "description_tooltip": null,
            "layout": "IPY_MODEL_486901d3ad0f4a5fab72761017f37c6f",
            "placeholder": "​",
            "style": "IPY_MODEL_779b5a62626f4f12b18e7d3d78273869",
            "value": " 3390171/3390171 [1:02:01&lt;00:00, 921.37it/s]"
          }
        },
        "f38f35287c6b4c78839873aca942681c": {
          "model_module": "@jupyter-widgets/base",
          "model_name": "LayoutModel",
          "model_module_version": "1.2.0",
          "state": {
            "_model_module": "@jupyter-widgets/base",
            "_model_module_version": "1.2.0",
            "_model_name": "LayoutModel",
            "_view_count": null,
            "_view_module": "@jupyter-widgets/base",
            "_view_module_version": "1.2.0",
            "_view_name": "LayoutView",
            "align_content": null,
            "align_items": null,
            "align_self": null,
            "border": null,
            "bottom": null,
            "display": null,
            "flex": null,
            "flex_flow": null,
            "grid_area": null,
            "grid_auto_columns": null,
            "grid_auto_flow": null,
            "grid_auto_rows": null,
            "grid_column": null,
            "grid_gap": null,
            "grid_row": null,
            "grid_template_areas": null,
            "grid_template_columns": null,
            "grid_template_rows": null,
            "height": null,
            "justify_content": null,
            "justify_items": null,
            "left": null,
            "margin": null,
            "max_height": null,
            "max_width": null,
            "min_height": null,
            "min_width": null,
            "object_fit": null,
            "object_position": null,
            "order": null,
            "overflow": null,
            "overflow_x": null,
            "overflow_y": null,
            "padding": null,
            "right": null,
            "top": null,
            "visibility": null,
            "width": null
          }
        },
        "ddd256e79d984fe9a225d9ec877cef51": {
          "model_module": "@jupyter-widgets/base",
          "model_name": "LayoutModel",
          "model_module_version": "1.2.0",
          "state": {
            "_model_module": "@jupyter-widgets/base",
            "_model_module_version": "1.2.0",
            "_model_name": "LayoutModel",
            "_view_count": null,
            "_view_module": "@jupyter-widgets/base",
            "_view_module_version": "1.2.0",
            "_view_name": "LayoutView",
            "align_content": null,
            "align_items": null,
            "align_self": null,
            "border": null,
            "bottom": null,
            "display": null,
            "flex": null,
            "flex_flow": null,
            "grid_area": null,
            "grid_auto_columns": null,
            "grid_auto_flow": null,
            "grid_auto_rows": null,
            "grid_column": null,
            "grid_gap": null,
            "grid_row": null,
            "grid_template_areas": null,
            "grid_template_columns": null,
            "grid_template_rows": null,
            "height": null,
            "justify_content": null,
            "justify_items": null,
            "left": null,
            "margin": null,
            "max_height": null,
            "max_width": null,
            "min_height": null,
            "min_width": null,
            "object_fit": null,
            "object_position": null,
            "order": null,
            "overflow": null,
            "overflow_x": null,
            "overflow_y": null,
            "padding": null,
            "right": null,
            "top": null,
            "visibility": null,
            "width": null
          }
        },
        "1a6d738aa5ac4953b3239c755c8a7ada": {
          "model_module": "@jupyter-widgets/controls",
          "model_name": "DescriptionStyleModel",
          "model_module_version": "1.5.0",
          "state": {
            "_model_module": "@jupyter-widgets/controls",
            "_model_module_version": "1.5.0",
            "_model_name": "DescriptionStyleModel",
            "_view_count": null,
            "_view_module": "@jupyter-widgets/base",
            "_view_module_version": "1.2.0",
            "_view_name": "StyleView",
            "description_width": ""
          }
        },
        "bb4e498de18448fc8ddf88459ed5e97f": {
          "model_module": "@jupyter-widgets/base",
          "model_name": "LayoutModel",
          "model_module_version": "1.2.0",
          "state": {
            "_model_module": "@jupyter-widgets/base",
            "_model_module_version": "1.2.0",
            "_model_name": "LayoutModel",
            "_view_count": null,
            "_view_module": "@jupyter-widgets/base",
            "_view_module_version": "1.2.0",
            "_view_name": "LayoutView",
            "align_content": null,
            "align_items": null,
            "align_self": null,
            "border": null,
            "bottom": null,
            "display": null,
            "flex": null,
            "flex_flow": null,
            "grid_area": null,
            "grid_auto_columns": null,
            "grid_auto_flow": null,
            "grid_auto_rows": null,
            "grid_column": null,
            "grid_gap": null,
            "grid_row": null,
            "grid_template_areas": null,
            "grid_template_columns": null,
            "grid_template_rows": null,
            "height": null,
            "justify_content": null,
            "justify_items": null,
            "left": null,
            "margin": null,
            "max_height": null,
            "max_width": null,
            "min_height": null,
            "min_width": null,
            "object_fit": null,
            "object_position": null,
            "order": null,
            "overflow": null,
            "overflow_x": null,
            "overflow_y": null,
            "padding": null,
            "right": null,
            "top": null,
            "visibility": null,
            "width": null
          }
        },
        "b5aeb524e5b145a8b7f3c1f95e5f16d3": {
          "model_module": "@jupyter-widgets/controls",
          "model_name": "ProgressStyleModel",
          "model_module_version": "1.5.0",
          "state": {
            "_model_module": "@jupyter-widgets/controls",
            "_model_module_version": "1.5.0",
            "_model_name": "ProgressStyleModel",
            "_view_count": null,
            "_view_module": "@jupyter-widgets/base",
            "_view_module_version": "1.2.0",
            "_view_name": "StyleView",
            "bar_color": null,
            "description_width": ""
          }
        },
        "486901d3ad0f4a5fab72761017f37c6f": {
          "model_module": "@jupyter-widgets/base",
          "model_name": "LayoutModel",
          "model_module_version": "1.2.0",
          "state": {
            "_model_module": "@jupyter-widgets/base",
            "_model_module_version": "1.2.0",
            "_model_name": "LayoutModel",
            "_view_count": null,
            "_view_module": "@jupyter-widgets/base",
            "_view_module_version": "1.2.0",
            "_view_name": "LayoutView",
            "align_content": null,
            "align_items": null,
            "align_self": null,
            "border": null,
            "bottom": null,
            "display": null,
            "flex": null,
            "flex_flow": null,
            "grid_area": null,
            "grid_auto_columns": null,
            "grid_auto_flow": null,
            "grid_auto_rows": null,
            "grid_column": null,
            "grid_gap": null,
            "grid_row": null,
            "grid_template_areas": null,
            "grid_template_columns": null,
            "grid_template_rows": null,
            "height": null,
            "justify_content": null,
            "justify_items": null,
            "left": null,
            "margin": null,
            "max_height": null,
            "max_width": null,
            "min_height": null,
            "min_width": null,
            "object_fit": null,
            "object_position": null,
            "order": null,
            "overflow": null,
            "overflow_x": null,
            "overflow_y": null,
            "padding": null,
            "right": null,
            "top": null,
            "visibility": null,
            "width": null
          }
        },
        "779b5a62626f4f12b18e7d3d78273869": {
          "model_module": "@jupyter-widgets/controls",
          "model_name": "DescriptionStyleModel",
          "model_module_version": "1.5.0",
          "state": {
            "_model_module": "@jupyter-widgets/controls",
            "_model_module_version": "1.5.0",
            "_model_name": "DescriptionStyleModel",
            "_view_count": null,
            "_view_module": "@jupyter-widgets/base",
            "_view_module_version": "1.2.0",
            "_view_name": "StyleView",
            "description_width": ""
          }
        },
        "a5dfef5166054faab09b1df680bee046": {
          "model_module": "@jupyter-widgets/controls",
          "model_name": "HBoxModel",
          "model_module_version": "1.5.0",
          "state": {
            "_dom_classes": [],
            "_model_module": "@jupyter-widgets/controls",
            "_model_module_version": "1.5.0",
            "_model_name": "HBoxModel",
            "_view_count": null,
            "_view_module": "@jupyter-widgets/controls",
            "_view_module_version": "1.5.0",
            "_view_name": "HBoxView",
            "box_style": "",
            "children": [
              "IPY_MODEL_c2d6f1a518c446caa73873f40d490fc3",
              "IPY_MODEL_dd913fe60b824a2d8d606aec5afb9346",
              "IPY_MODEL_f47d19f1f51b4928a2ef313ad8d93684"
            ],
            "layout": "IPY_MODEL_f392af2692c945e385dedb6ec718a853"
          }
        },
        "c2d6f1a518c446caa73873f40d490fc3": {
          "model_module": "@jupyter-widgets/controls",
          "model_name": "HTMLModel",
          "model_module_version": "1.5.0",
          "state": {
            "_dom_classes": [],
            "_model_module": "@jupyter-widgets/controls",
            "_model_module_version": "1.5.0",
            "_model_name": "HTMLModel",
            "_view_count": null,
            "_view_module": "@jupyter-widgets/controls",
            "_view_module_version": "1.5.0",
            "_view_name": "HTMLView",
            "description": "",
            "description_tooltip": null,
            "layout": "IPY_MODEL_0e4e241bdb2543cab7b66e2f82bcfdc8",
            "placeholder": "​",
            "style": "IPY_MODEL_ba4e1458006e4a95bcf724358b60699e",
            "value": "Pandas Apply: 100%"
          }
        },
        "dd913fe60b824a2d8d606aec5afb9346": {
          "model_module": "@jupyter-widgets/controls",
          "model_name": "FloatProgressModel",
          "model_module_version": "1.5.0",
          "state": {
            "_dom_classes": [],
            "_model_module": "@jupyter-widgets/controls",
            "_model_module_version": "1.5.0",
            "_model_name": "FloatProgressModel",
            "_view_count": null,
            "_view_module": "@jupyter-widgets/controls",
            "_view_module_version": "1.5.0",
            "_view_name": "ProgressView",
            "bar_style": "success",
            "description": "",
            "description_tooltip": null,
            "layout": "IPY_MODEL_b8bd6121ffc84dae840d9049cf945e52",
            "max": 3390171,
            "min": 0,
            "orientation": "horizontal",
            "style": "IPY_MODEL_28372024dd5d43de81276c2cf24d8e46",
            "value": 3390171
          }
        },
        "f47d19f1f51b4928a2ef313ad8d93684": {
          "model_module": "@jupyter-widgets/controls",
          "model_name": "HTMLModel",
          "model_module_version": "1.5.0",
          "state": {
            "_dom_classes": [],
            "_model_module": "@jupyter-widgets/controls",
            "_model_module_version": "1.5.0",
            "_model_name": "HTMLModel",
            "_view_count": null,
            "_view_module": "@jupyter-widgets/controls",
            "_view_module_version": "1.5.0",
            "_view_name": "HTMLView",
            "description": "",
            "description_tooltip": null,
            "layout": "IPY_MODEL_a131bb3f80594656b42149fea89a8902",
            "placeholder": "​",
            "style": "IPY_MODEL_2b87e01fb4be4650b3f665eba8bf6165",
            "value": " 3390171/3390171 [00:07&lt;00:00, 438535.71it/s]"
          }
        },
        "f392af2692c945e385dedb6ec718a853": {
          "model_module": "@jupyter-widgets/base",
          "model_name": "LayoutModel",
          "model_module_version": "1.2.0",
          "state": {
            "_model_module": "@jupyter-widgets/base",
            "_model_module_version": "1.2.0",
            "_model_name": "LayoutModel",
            "_view_count": null,
            "_view_module": "@jupyter-widgets/base",
            "_view_module_version": "1.2.0",
            "_view_name": "LayoutView",
            "align_content": null,
            "align_items": null,
            "align_self": null,
            "border": null,
            "bottom": null,
            "display": null,
            "flex": null,
            "flex_flow": null,
            "grid_area": null,
            "grid_auto_columns": null,
            "grid_auto_flow": null,
            "grid_auto_rows": null,
            "grid_column": null,
            "grid_gap": null,
            "grid_row": null,
            "grid_template_areas": null,
            "grid_template_columns": null,
            "grid_template_rows": null,
            "height": null,
            "justify_content": null,
            "justify_items": null,
            "left": null,
            "margin": null,
            "max_height": null,
            "max_width": null,
            "min_height": null,
            "min_width": null,
            "object_fit": null,
            "object_position": null,
            "order": null,
            "overflow": null,
            "overflow_x": null,
            "overflow_y": null,
            "padding": null,
            "right": null,
            "top": null,
            "visibility": null,
            "width": null
          }
        },
        "0e4e241bdb2543cab7b66e2f82bcfdc8": {
          "model_module": "@jupyter-widgets/base",
          "model_name": "LayoutModel",
          "model_module_version": "1.2.0",
          "state": {
            "_model_module": "@jupyter-widgets/base",
            "_model_module_version": "1.2.0",
            "_model_name": "LayoutModel",
            "_view_count": null,
            "_view_module": "@jupyter-widgets/base",
            "_view_module_version": "1.2.0",
            "_view_name": "LayoutView",
            "align_content": null,
            "align_items": null,
            "align_self": null,
            "border": null,
            "bottom": null,
            "display": null,
            "flex": null,
            "flex_flow": null,
            "grid_area": null,
            "grid_auto_columns": null,
            "grid_auto_flow": null,
            "grid_auto_rows": null,
            "grid_column": null,
            "grid_gap": null,
            "grid_row": null,
            "grid_template_areas": null,
            "grid_template_columns": null,
            "grid_template_rows": null,
            "height": null,
            "justify_content": null,
            "justify_items": null,
            "left": null,
            "margin": null,
            "max_height": null,
            "max_width": null,
            "min_height": null,
            "min_width": null,
            "object_fit": null,
            "object_position": null,
            "order": null,
            "overflow": null,
            "overflow_x": null,
            "overflow_y": null,
            "padding": null,
            "right": null,
            "top": null,
            "visibility": null,
            "width": null
          }
        },
        "ba4e1458006e4a95bcf724358b60699e": {
          "model_module": "@jupyter-widgets/controls",
          "model_name": "DescriptionStyleModel",
          "model_module_version": "1.5.0",
          "state": {
            "_model_module": "@jupyter-widgets/controls",
            "_model_module_version": "1.5.0",
            "_model_name": "DescriptionStyleModel",
            "_view_count": null,
            "_view_module": "@jupyter-widgets/base",
            "_view_module_version": "1.2.0",
            "_view_name": "StyleView",
            "description_width": ""
          }
        },
        "b8bd6121ffc84dae840d9049cf945e52": {
          "model_module": "@jupyter-widgets/base",
          "model_name": "LayoutModel",
          "model_module_version": "1.2.0",
          "state": {
            "_model_module": "@jupyter-widgets/base",
            "_model_module_version": "1.2.0",
            "_model_name": "LayoutModel",
            "_view_count": null,
            "_view_module": "@jupyter-widgets/base",
            "_view_module_version": "1.2.0",
            "_view_name": "LayoutView",
            "align_content": null,
            "align_items": null,
            "align_self": null,
            "border": null,
            "bottom": null,
            "display": null,
            "flex": null,
            "flex_flow": null,
            "grid_area": null,
            "grid_auto_columns": null,
            "grid_auto_flow": null,
            "grid_auto_rows": null,
            "grid_column": null,
            "grid_gap": null,
            "grid_row": null,
            "grid_template_areas": null,
            "grid_template_columns": null,
            "grid_template_rows": null,
            "height": null,
            "justify_content": null,
            "justify_items": null,
            "left": null,
            "margin": null,
            "max_height": null,
            "max_width": null,
            "min_height": null,
            "min_width": null,
            "object_fit": null,
            "object_position": null,
            "order": null,
            "overflow": null,
            "overflow_x": null,
            "overflow_y": null,
            "padding": null,
            "right": null,
            "top": null,
            "visibility": null,
            "width": null
          }
        },
        "28372024dd5d43de81276c2cf24d8e46": {
          "model_module": "@jupyter-widgets/controls",
          "model_name": "ProgressStyleModel",
          "model_module_version": "1.5.0",
          "state": {
            "_model_module": "@jupyter-widgets/controls",
            "_model_module_version": "1.5.0",
            "_model_name": "ProgressStyleModel",
            "_view_count": null,
            "_view_module": "@jupyter-widgets/base",
            "_view_module_version": "1.2.0",
            "_view_name": "StyleView",
            "bar_color": null,
            "description_width": ""
          }
        },
        "a131bb3f80594656b42149fea89a8902": {
          "model_module": "@jupyter-widgets/base",
          "model_name": "LayoutModel",
          "model_module_version": "1.2.0",
          "state": {
            "_model_module": "@jupyter-widgets/base",
            "_model_module_version": "1.2.0",
            "_model_name": "LayoutModel",
            "_view_count": null,
            "_view_module": "@jupyter-widgets/base",
            "_view_module_version": "1.2.0",
            "_view_name": "LayoutView",
            "align_content": null,
            "align_items": null,
            "align_self": null,
            "border": null,
            "bottom": null,
            "display": null,
            "flex": null,
            "flex_flow": null,
            "grid_area": null,
            "grid_auto_columns": null,
            "grid_auto_flow": null,
            "grid_auto_rows": null,
            "grid_column": null,
            "grid_gap": null,
            "grid_row": null,
            "grid_template_areas": null,
            "grid_template_columns": null,
            "grid_template_rows": null,
            "height": null,
            "justify_content": null,
            "justify_items": null,
            "left": null,
            "margin": null,
            "max_height": null,
            "max_width": null,
            "min_height": null,
            "min_width": null,
            "object_fit": null,
            "object_position": null,
            "order": null,
            "overflow": null,
            "overflow_x": null,
            "overflow_y": null,
            "padding": null,
            "right": null,
            "top": null,
            "visibility": null,
            "width": null
          }
        },
        "2b87e01fb4be4650b3f665eba8bf6165": {
          "model_module": "@jupyter-widgets/controls",
          "model_name": "DescriptionStyleModel",
          "model_module_version": "1.5.0",
          "state": {
            "_model_module": "@jupyter-widgets/controls",
            "_model_module_version": "1.5.0",
            "_model_name": "DescriptionStyleModel",
            "_view_count": null,
            "_view_module": "@jupyter-widgets/base",
            "_view_module_version": "1.2.0",
            "_view_name": "StyleView",
            "description_width": ""
          }
        },
        "f1409a508716410f98a861a154ddd178": {
          "model_module": "@jupyter-widgets/controls",
          "model_name": "HBoxModel",
          "model_module_version": "1.5.0",
          "state": {
            "_dom_classes": [],
            "_model_module": "@jupyter-widgets/controls",
            "_model_module_version": "1.5.0",
            "_model_name": "HBoxModel",
            "_view_count": null,
            "_view_module": "@jupyter-widgets/controls",
            "_view_module_version": "1.5.0",
            "_view_name": "HBoxView",
            "box_style": "",
            "children": [
              "IPY_MODEL_c057b83ddb0548d08a4f2eacfcb72fba",
              "IPY_MODEL_e6dd42da159b48959d358c31bee79b65",
              "IPY_MODEL_ccc56eed0ef24afead0eb0122a80ae9c"
            ],
            "layout": "IPY_MODEL_8a78a74438cc491984487b36639cb320"
          }
        },
        "c057b83ddb0548d08a4f2eacfcb72fba": {
          "model_module": "@jupyter-widgets/controls",
          "model_name": "HTMLModel",
          "model_module_version": "1.5.0",
          "state": {
            "_dom_classes": [],
            "_model_module": "@jupyter-widgets/controls",
            "_model_module_version": "1.5.0",
            "_model_name": "HTMLModel",
            "_view_count": null,
            "_view_module": "@jupyter-widgets/controls",
            "_view_module_version": "1.5.0",
            "_view_name": "HTMLView",
            "description": "",
            "description_tooltip": null,
            "layout": "IPY_MODEL_325883765b724d30838e8696d4472d11",
            "placeholder": "​",
            "style": "IPY_MODEL_27ae35c6a51e45daba187adc5a1dea58",
            "value": "Pandas Apply: 100%"
          }
        },
        "e6dd42da159b48959d358c31bee79b65": {
          "model_module": "@jupyter-widgets/controls",
          "model_name": "FloatProgressModel",
          "model_module_version": "1.5.0",
          "state": {
            "_dom_classes": [],
            "_model_module": "@jupyter-widgets/controls",
            "_model_module_version": "1.5.0",
            "_model_name": "FloatProgressModel",
            "_view_count": null,
            "_view_module": "@jupyter-widgets/controls",
            "_view_module_version": "1.5.0",
            "_view_name": "ProgressView",
            "bar_style": "success",
            "description": "",
            "description_tooltip": null,
            "layout": "IPY_MODEL_7e127796131c4ccba9fdc802f14ec118",
            "max": 3390171,
            "min": 0,
            "orientation": "horizontal",
            "style": "IPY_MODEL_d5cf2887f90743cf9702c0657b2c40d2",
            "value": 3390171
          }
        },
        "ccc56eed0ef24afead0eb0122a80ae9c": {
          "model_module": "@jupyter-widgets/controls",
          "model_name": "HTMLModel",
          "model_module_version": "1.5.0",
          "state": {
            "_dom_classes": [],
            "_model_module": "@jupyter-widgets/controls",
            "_model_module_version": "1.5.0",
            "_model_name": "HTMLModel",
            "_view_count": null,
            "_view_module": "@jupyter-widgets/controls",
            "_view_module_version": "1.5.0",
            "_view_name": "HTMLView",
            "description": "",
            "description_tooltip": null,
            "layout": "IPY_MODEL_4dbc4ed4bf584a36b8c0c296f120202f",
            "placeholder": "​",
            "style": "IPY_MODEL_42124f434352487386749bc636909d41",
            "value": " 3390171/3390171 [00:07&lt;00:00, 458364.30it/s]"
          }
        },
        "8a78a74438cc491984487b36639cb320": {
          "model_module": "@jupyter-widgets/base",
          "model_name": "LayoutModel",
          "model_module_version": "1.2.0",
          "state": {
            "_model_module": "@jupyter-widgets/base",
            "_model_module_version": "1.2.0",
            "_model_name": "LayoutModel",
            "_view_count": null,
            "_view_module": "@jupyter-widgets/base",
            "_view_module_version": "1.2.0",
            "_view_name": "LayoutView",
            "align_content": null,
            "align_items": null,
            "align_self": null,
            "border": null,
            "bottom": null,
            "display": null,
            "flex": null,
            "flex_flow": null,
            "grid_area": null,
            "grid_auto_columns": null,
            "grid_auto_flow": null,
            "grid_auto_rows": null,
            "grid_column": null,
            "grid_gap": null,
            "grid_row": null,
            "grid_template_areas": null,
            "grid_template_columns": null,
            "grid_template_rows": null,
            "height": null,
            "justify_content": null,
            "justify_items": null,
            "left": null,
            "margin": null,
            "max_height": null,
            "max_width": null,
            "min_height": null,
            "min_width": null,
            "object_fit": null,
            "object_position": null,
            "order": null,
            "overflow": null,
            "overflow_x": null,
            "overflow_y": null,
            "padding": null,
            "right": null,
            "top": null,
            "visibility": null,
            "width": null
          }
        },
        "325883765b724d30838e8696d4472d11": {
          "model_module": "@jupyter-widgets/base",
          "model_name": "LayoutModel",
          "model_module_version": "1.2.0",
          "state": {
            "_model_module": "@jupyter-widgets/base",
            "_model_module_version": "1.2.0",
            "_model_name": "LayoutModel",
            "_view_count": null,
            "_view_module": "@jupyter-widgets/base",
            "_view_module_version": "1.2.0",
            "_view_name": "LayoutView",
            "align_content": null,
            "align_items": null,
            "align_self": null,
            "border": null,
            "bottom": null,
            "display": null,
            "flex": null,
            "flex_flow": null,
            "grid_area": null,
            "grid_auto_columns": null,
            "grid_auto_flow": null,
            "grid_auto_rows": null,
            "grid_column": null,
            "grid_gap": null,
            "grid_row": null,
            "grid_template_areas": null,
            "grid_template_columns": null,
            "grid_template_rows": null,
            "height": null,
            "justify_content": null,
            "justify_items": null,
            "left": null,
            "margin": null,
            "max_height": null,
            "max_width": null,
            "min_height": null,
            "min_width": null,
            "object_fit": null,
            "object_position": null,
            "order": null,
            "overflow": null,
            "overflow_x": null,
            "overflow_y": null,
            "padding": null,
            "right": null,
            "top": null,
            "visibility": null,
            "width": null
          }
        },
        "27ae35c6a51e45daba187adc5a1dea58": {
          "model_module": "@jupyter-widgets/controls",
          "model_name": "DescriptionStyleModel",
          "model_module_version": "1.5.0",
          "state": {
            "_model_module": "@jupyter-widgets/controls",
            "_model_module_version": "1.5.0",
            "_model_name": "DescriptionStyleModel",
            "_view_count": null,
            "_view_module": "@jupyter-widgets/base",
            "_view_module_version": "1.2.0",
            "_view_name": "StyleView",
            "description_width": ""
          }
        },
        "7e127796131c4ccba9fdc802f14ec118": {
          "model_module": "@jupyter-widgets/base",
          "model_name": "LayoutModel",
          "model_module_version": "1.2.0",
          "state": {
            "_model_module": "@jupyter-widgets/base",
            "_model_module_version": "1.2.0",
            "_model_name": "LayoutModel",
            "_view_count": null,
            "_view_module": "@jupyter-widgets/base",
            "_view_module_version": "1.2.0",
            "_view_name": "LayoutView",
            "align_content": null,
            "align_items": null,
            "align_self": null,
            "border": null,
            "bottom": null,
            "display": null,
            "flex": null,
            "flex_flow": null,
            "grid_area": null,
            "grid_auto_columns": null,
            "grid_auto_flow": null,
            "grid_auto_rows": null,
            "grid_column": null,
            "grid_gap": null,
            "grid_row": null,
            "grid_template_areas": null,
            "grid_template_columns": null,
            "grid_template_rows": null,
            "height": null,
            "justify_content": null,
            "justify_items": null,
            "left": null,
            "margin": null,
            "max_height": null,
            "max_width": null,
            "min_height": null,
            "min_width": null,
            "object_fit": null,
            "object_position": null,
            "order": null,
            "overflow": null,
            "overflow_x": null,
            "overflow_y": null,
            "padding": null,
            "right": null,
            "top": null,
            "visibility": null,
            "width": null
          }
        },
        "d5cf2887f90743cf9702c0657b2c40d2": {
          "model_module": "@jupyter-widgets/controls",
          "model_name": "ProgressStyleModel",
          "model_module_version": "1.5.0",
          "state": {
            "_model_module": "@jupyter-widgets/controls",
            "_model_module_version": "1.5.0",
            "_model_name": "ProgressStyleModel",
            "_view_count": null,
            "_view_module": "@jupyter-widgets/base",
            "_view_module_version": "1.2.0",
            "_view_name": "StyleView",
            "bar_color": null,
            "description_width": ""
          }
        },
        "4dbc4ed4bf584a36b8c0c296f120202f": {
          "model_module": "@jupyter-widgets/base",
          "model_name": "LayoutModel",
          "model_module_version": "1.2.0",
          "state": {
            "_model_module": "@jupyter-widgets/base",
            "_model_module_version": "1.2.0",
            "_model_name": "LayoutModel",
            "_view_count": null,
            "_view_module": "@jupyter-widgets/base",
            "_view_module_version": "1.2.0",
            "_view_name": "LayoutView",
            "align_content": null,
            "align_items": null,
            "align_self": null,
            "border": null,
            "bottom": null,
            "display": null,
            "flex": null,
            "flex_flow": null,
            "grid_area": null,
            "grid_auto_columns": null,
            "grid_auto_flow": null,
            "grid_auto_rows": null,
            "grid_column": null,
            "grid_gap": null,
            "grid_row": null,
            "grid_template_areas": null,
            "grid_template_columns": null,
            "grid_template_rows": null,
            "height": null,
            "justify_content": null,
            "justify_items": null,
            "left": null,
            "margin": null,
            "max_height": null,
            "max_width": null,
            "min_height": null,
            "min_width": null,
            "object_fit": null,
            "object_position": null,
            "order": null,
            "overflow": null,
            "overflow_x": null,
            "overflow_y": null,
            "padding": null,
            "right": null,
            "top": null,
            "visibility": null,
            "width": null
          }
        },
        "42124f434352487386749bc636909d41": {
          "model_module": "@jupyter-widgets/controls",
          "model_name": "DescriptionStyleModel",
          "model_module_version": "1.5.0",
          "state": {
            "_model_module": "@jupyter-widgets/controls",
            "_model_module_version": "1.5.0",
            "_model_name": "DescriptionStyleModel",
            "_view_count": null,
            "_view_module": "@jupyter-widgets/base",
            "_view_module_version": "1.2.0",
            "_view_name": "StyleView",
            "description_width": ""
          }
        },
        "fee3d8b72d1a4b9fbeb44c74ffaa0868": {
          "model_module": "@jupyter-widgets/controls",
          "model_name": "HBoxModel",
          "model_module_version": "1.5.0",
          "state": {
            "_dom_classes": [],
            "_model_module": "@jupyter-widgets/controls",
            "_model_module_version": "1.5.0",
            "_model_name": "HBoxModel",
            "_view_count": null,
            "_view_module": "@jupyter-widgets/controls",
            "_view_module_version": "1.5.0",
            "_view_name": "HBoxView",
            "box_style": "",
            "children": [
              "IPY_MODEL_10af530c9262461bad65c385d68f90b8",
              "IPY_MODEL_634f80698c0649349e4d26f56cea1709",
              "IPY_MODEL_eae413a80c58460395950c90df3bd75b"
            ],
            "layout": "IPY_MODEL_c1c12062601248138fb0fa1de09f2813"
          }
        },
        "10af530c9262461bad65c385d68f90b8": {
          "model_module": "@jupyter-widgets/controls",
          "model_name": "HTMLModel",
          "model_module_version": "1.5.0",
          "state": {
            "_dom_classes": [],
            "_model_module": "@jupyter-widgets/controls",
            "_model_module_version": "1.5.0",
            "_model_name": "HTMLModel",
            "_view_count": null,
            "_view_module": "@jupyter-widgets/controls",
            "_view_module_version": "1.5.0",
            "_view_name": "HTMLView",
            "description": "",
            "description_tooltip": null,
            "layout": "IPY_MODEL_8c3cbea1f83842e599146ed2edbde1fc",
            "placeholder": "​",
            "style": "IPY_MODEL_5b1cbd04dcb74537bfbd78353ff7ebd3",
            "value": "Pandas Apply: 100%"
          }
        },
        "634f80698c0649349e4d26f56cea1709": {
          "model_module": "@jupyter-widgets/controls",
          "model_name": "FloatProgressModel",
          "model_module_version": "1.5.0",
          "state": {
            "_dom_classes": [],
            "_model_module": "@jupyter-widgets/controls",
            "_model_module_version": "1.5.0",
            "_model_name": "FloatProgressModel",
            "_view_count": null,
            "_view_module": "@jupyter-widgets/controls",
            "_view_module_version": "1.5.0",
            "_view_name": "ProgressView",
            "bar_style": "success",
            "description": "",
            "description_tooltip": null,
            "layout": "IPY_MODEL_7f48b3358eb8481c999251bf9a974af2",
            "max": 3390171,
            "min": 0,
            "orientation": "horizontal",
            "style": "IPY_MODEL_daa8d3465e2d48839a653b7035c154fd",
            "value": 3390171
          }
        },
        "eae413a80c58460395950c90df3bd75b": {
          "model_module": "@jupyter-widgets/controls",
          "model_name": "HTMLModel",
          "model_module_version": "1.5.0",
          "state": {
            "_dom_classes": [],
            "_model_module": "@jupyter-widgets/controls",
            "_model_module_version": "1.5.0",
            "_model_name": "HTMLModel",
            "_view_count": null,
            "_view_module": "@jupyter-widgets/controls",
            "_view_module_version": "1.5.0",
            "_view_name": "HTMLView",
            "description": "",
            "description_tooltip": null,
            "layout": "IPY_MODEL_cdee41b75f344d3c968fbf8bd619a5a4",
            "placeholder": "​",
            "style": "IPY_MODEL_d0010431584a4b98bfda8b536a4025d6",
            "value": " 3390171/3390171 [00:07&lt;00:00, 459052.31it/s]"
          }
        },
        "c1c12062601248138fb0fa1de09f2813": {
          "model_module": "@jupyter-widgets/base",
          "model_name": "LayoutModel",
          "model_module_version": "1.2.0",
          "state": {
            "_model_module": "@jupyter-widgets/base",
            "_model_module_version": "1.2.0",
            "_model_name": "LayoutModel",
            "_view_count": null,
            "_view_module": "@jupyter-widgets/base",
            "_view_module_version": "1.2.0",
            "_view_name": "LayoutView",
            "align_content": null,
            "align_items": null,
            "align_self": null,
            "border": null,
            "bottom": null,
            "display": null,
            "flex": null,
            "flex_flow": null,
            "grid_area": null,
            "grid_auto_columns": null,
            "grid_auto_flow": null,
            "grid_auto_rows": null,
            "grid_column": null,
            "grid_gap": null,
            "grid_row": null,
            "grid_template_areas": null,
            "grid_template_columns": null,
            "grid_template_rows": null,
            "height": null,
            "justify_content": null,
            "justify_items": null,
            "left": null,
            "margin": null,
            "max_height": null,
            "max_width": null,
            "min_height": null,
            "min_width": null,
            "object_fit": null,
            "object_position": null,
            "order": null,
            "overflow": null,
            "overflow_x": null,
            "overflow_y": null,
            "padding": null,
            "right": null,
            "top": null,
            "visibility": null,
            "width": null
          }
        },
        "8c3cbea1f83842e599146ed2edbde1fc": {
          "model_module": "@jupyter-widgets/base",
          "model_name": "LayoutModel",
          "model_module_version": "1.2.0",
          "state": {
            "_model_module": "@jupyter-widgets/base",
            "_model_module_version": "1.2.0",
            "_model_name": "LayoutModel",
            "_view_count": null,
            "_view_module": "@jupyter-widgets/base",
            "_view_module_version": "1.2.0",
            "_view_name": "LayoutView",
            "align_content": null,
            "align_items": null,
            "align_self": null,
            "border": null,
            "bottom": null,
            "display": null,
            "flex": null,
            "flex_flow": null,
            "grid_area": null,
            "grid_auto_columns": null,
            "grid_auto_flow": null,
            "grid_auto_rows": null,
            "grid_column": null,
            "grid_gap": null,
            "grid_row": null,
            "grid_template_areas": null,
            "grid_template_columns": null,
            "grid_template_rows": null,
            "height": null,
            "justify_content": null,
            "justify_items": null,
            "left": null,
            "margin": null,
            "max_height": null,
            "max_width": null,
            "min_height": null,
            "min_width": null,
            "object_fit": null,
            "object_position": null,
            "order": null,
            "overflow": null,
            "overflow_x": null,
            "overflow_y": null,
            "padding": null,
            "right": null,
            "top": null,
            "visibility": null,
            "width": null
          }
        },
        "5b1cbd04dcb74537bfbd78353ff7ebd3": {
          "model_module": "@jupyter-widgets/controls",
          "model_name": "DescriptionStyleModel",
          "model_module_version": "1.5.0",
          "state": {
            "_model_module": "@jupyter-widgets/controls",
            "_model_module_version": "1.5.0",
            "_model_name": "DescriptionStyleModel",
            "_view_count": null,
            "_view_module": "@jupyter-widgets/base",
            "_view_module_version": "1.2.0",
            "_view_name": "StyleView",
            "description_width": ""
          }
        },
        "7f48b3358eb8481c999251bf9a974af2": {
          "model_module": "@jupyter-widgets/base",
          "model_name": "LayoutModel",
          "model_module_version": "1.2.0",
          "state": {
            "_model_module": "@jupyter-widgets/base",
            "_model_module_version": "1.2.0",
            "_model_name": "LayoutModel",
            "_view_count": null,
            "_view_module": "@jupyter-widgets/base",
            "_view_module_version": "1.2.0",
            "_view_name": "LayoutView",
            "align_content": null,
            "align_items": null,
            "align_self": null,
            "border": null,
            "bottom": null,
            "display": null,
            "flex": null,
            "flex_flow": null,
            "grid_area": null,
            "grid_auto_columns": null,
            "grid_auto_flow": null,
            "grid_auto_rows": null,
            "grid_column": null,
            "grid_gap": null,
            "grid_row": null,
            "grid_template_areas": null,
            "grid_template_columns": null,
            "grid_template_rows": null,
            "height": null,
            "justify_content": null,
            "justify_items": null,
            "left": null,
            "margin": null,
            "max_height": null,
            "max_width": null,
            "min_height": null,
            "min_width": null,
            "object_fit": null,
            "object_position": null,
            "order": null,
            "overflow": null,
            "overflow_x": null,
            "overflow_y": null,
            "padding": null,
            "right": null,
            "top": null,
            "visibility": null,
            "width": null
          }
        },
        "daa8d3465e2d48839a653b7035c154fd": {
          "model_module": "@jupyter-widgets/controls",
          "model_name": "ProgressStyleModel",
          "model_module_version": "1.5.0",
          "state": {
            "_model_module": "@jupyter-widgets/controls",
            "_model_module_version": "1.5.0",
            "_model_name": "ProgressStyleModel",
            "_view_count": null,
            "_view_module": "@jupyter-widgets/base",
            "_view_module_version": "1.2.0",
            "_view_name": "StyleView",
            "bar_color": null,
            "description_width": ""
          }
        },
        "cdee41b75f344d3c968fbf8bd619a5a4": {
          "model_module": "@jupyter-widgets/base",
          "model_name": "LayoutModel",
          "model_module_version": "1.2.0",
          "state": {
            "_model_module": "@jupyter-widgets/base",
            "_model_module_version": "1.2.0",
            "_model_name": "LayoutModel",
            "_view_count": null,
            "_view_module": "@jupyter-widgets/base",
            "_view_module_version": "1.2.0",
            "_view_name": "LayoutView",
            "align_content": null,
            "align_items": null,
            "align_self": null,
            "border": null,
            "bottom": null,
            "display": null,
            "flex": null,
            "flex_flow": null,
            "grid_area": null,
            "grid_auto_columns": null,
            "grid_auto_flow": null,
            "grid_auto_rows": null,
            "grid_column": null,
            "grid_gap": null,
            "grid_row": null,
            "grid_template_areas": null,
            "grid_template_columns": null,
            "grid_template_rows": null,
            "height": null,
            "justify_content": null,
            "justify_items": null,
            "left": null,
            "margin": null,
            "max_height": null,
            "max_width": null,
            "min_height": null,
            "min_width": null,
            "object_fit": null,
            "object_position": null,
            "order": null,
            "overflow": null,
            "overflow_x": null,
            "overflow_y": null,
            "padding": null,
            "right": null,
            "top": null,
            "visibility": null,
            "width": null
          }
        },
        "d0010431584a4b98bfda8b536a4025d6": {
          "model_module": "@jupyter-widgets/controls",
          "model_name": "DescriptionStyleModel",
          "model_module_version": "1.5.0",
          "state": {
            "_model_module": "@jupyter-widgets/controls",
            "_model_module_version": "1.5.0",
            "_model_name": "DescriptionStyleModel",
            "_view_count": null,
            "_view_module": "@jupyter-widgets/base",
            "_view_module_version": "1.2.0",
            "_view_name": "StyleView",
            "description_width": ""
          }
        }
      }
    }
  },
  "nbformat": 4,
  "nbformat_minor": 0
}